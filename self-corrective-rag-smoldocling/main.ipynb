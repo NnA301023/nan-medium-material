{
 "cells": [
  {
   "cell_type": "markdown",
   "metadata": {},
   "source": [
    "### PDF Parser - SmolDocling"
   ]
  },
  {
   "cell_type": "code",
   "execution_count": null,
   "metadata": {},
   "outputs": [
    {
     "name": "stderr",
     "output_type": "stream",
     "text": [
      "/Users/enb/Project/freelance/nan-medium-material/.venv/lib/python3.11/site-packages/tqdm/auto.py:21: TqdmWarning: IProgress not found. Please update jupyter and ipywidgets. See https://ipywidgets.readthedocs.io/en/stable/user_install.html\n",
      "  from .autonotebook import tqdm as notebook_tqdm\n",
      "None of PyTorch, TensorFlow >= 2.0, or Flax have been found. Models won't be available and only tokenizers, configuration and file/data utilities can be used.\n",
      "None of PyTorch, TensorFlow >= 2.0, or Flax have been found. Models won't be available and only tokenizers, configuration and file/data utilities can be used.\n"
     ]
    }
   ],
   "source": [
    "# Load libraries\n",
    "import os\n",
    "import json\n",
    "from tqdm import tqdm\n",
    "import mlx.core as mx\n",
    "from typing import Union\n",
    "from mlx_vlm import load\n",
    "from pathlib import Path\n",
    "import concurrent.futures\n",
    "from pdf2image import convert_from_path\n",
    "from mlx_vlm.prompt_utils import apply_chat_template\n",
    "from mlx_vlm.utils import load_config, stream_generate\n",
    "from docling_core.types.doc import ImageRefMode\n",
    "from docling_core.types.doc.document import DocTagsDocument, DoclingDocument"
   ]
  },
  {
   "cell_type": "code",
   "execution_count": 2,
   "metadata": {},
   "outputs": [],
   "source": [
    "# Set device runtime - gpu\n",
    "# NOTE: On M1 CPU runtime not supported yet due maximal float type is float32 eval, model required higher float type such as float64.\n",
    "os.environ[\"TOKENIZERS_PARALLELISM\"] = \"false\"\n",
    "mx.set_default_device(mx.gpu)"
   ]
  },
  {
   "cell_type": "code",
   "execution_count": 3,
   "metadata": {},
   "outputs": [
    {
     "name": "stderr",
     "output_type": "stream",
     "text": [
      "Fetching 13 files: 100%|██████████| 13/13 [00:00<00:00, 200463.06it/s]\n"
     ]
    }
   ],
   "source": [
    "# Load model smoldocling\n",
    "model_path = \"ds4sd/SmolDocling-256M-preview-mlx-bf16\"\n",
    "model, processor = load(model_path)"
   ]
  },
  {
   "cell_type": "code",
   "execution_count": 4,
   "metadata": {},
   "outputs": [
    {
     "name": "stdout",
     "output_type": "stream",
     "text": [
      "vision_model\n",
      "dict_keys(['embeddings', 'encoder', 'post_layernorm'])\n",
      "\n",
      "language_model\n",
      "dict_keys(['embed_tokens', 'layers', 'norm', 'lm_head'])\n",
      "\n",
      "connector\n",
      "dict_keys(['modality_projection'])\n",
      "\n"
     ]
    }
   ],
   "source": [
    "# Check parameter --- each key has its own QKV and trained weight.\n",
    "for key in model.parameters().keys():\n",
    "    print(key)\n",
    "    print(model.parameters()[key].keys())\n",
    "    print()"
   ]
  },
  {
   "cell_type": "code",
   "execution_count": 5,
   "metadata": {},
   "outputs": [
    {
     "name": "stderr",
     "output_type": "stream",
     "text": [
      "Fetching 13 files: 100%|██████████| 13/13 [00:00<00:00, 206537.70it/s]\n"
     ]
    }
   ],
   "source": [
    "# Set mlx-core with model config\n",
    "model.eval()\n",
    "mx.eval(model.parameters())\n",
    "config = load_config(model_path)"
   ]
  },
  {
   "cell_type": "code",
   "execution_count": 6,
   "metadata": {},
   "outputs": [],
   "source": [
    "# Define global variable\n",
    "MAX_WORKERS = 8"
   ]
  },
  {
   "cell_type": "code",
   "execution_count": 10,
   "metadata": {},
   "outputs": [],
   "source": [
    "# Create utilities function\n",
    "def process_single_page(args):\n",
    "    \"\"\"\n",
    "    Process a single page with SmolDocling.\n",
    "    \n",
    "    Args:\n",
    "        args: Tuple containing (image, model, processor, formatted_prompt, page_num)\n",
    "    \n",
    "    Returns:\n",
    "        Tuple of (page_num, output, image)\n",
    "    \"\"\"\n",
    "    image, model, processor, _, formatted_prompt, page_num = args\n",
    "    \n",
    "    output = \"\"\n",
    "    for token in stream_generate(\n",
    "        model, processor, formatted_prompt, [image], max_tokens=4096, verbose=False\n",
    "    ):\n",
    "        output += token.text\n",
    "        if \"</doctag>\" in token.text:\n",
    "            break\n",
    "    \n",
    "    return page_num, output, image\n",
    "\n",
    "def process_pdf(pdf_path: Union[str, Path], model=None, processor=None, config=None) -> DoclingDocument:\n",
    "    \"\"\"\n",
    "    Process a PDF file and return a DoclingDocument.\n",
    "    \n",
    "    Args:\n",
    "        pdf_path: Path to the PDF file\n",
    "        model: Optional pre-loaded model\n",
    "        processor: Optional pre-loaded processor\n",
    "        config: Optional pre-loaded config\n",
    "    \n",
    "    Returns:\n",
    "        DoclingDocument object containing the processed content\n",
    "    \"\"\"\n",
    "    # Convert PDF to images\n",
    "    images = convert_from_path(str(pdf_path))\n",
    "    \n",
    "    # Set up the prompt\n",
    "    prompt = \"Convert this page to docling.\"\n",
    "    formatted_prompt = apply_chat_template(processor, config, prompt, num_images=1)\n",
    "    \n",
    "    # Process each image and generate output\n",
    "    all_outputs = []\n",
    "    all_images = []\n",
    "    \n",
    "    print(f\"Processing PDF: {pdf_path}\")\n",
    "    print(f\"Total pages: {len(images)}\")\n",
    "\n",
    "    # Sequential processing\n",
    "    for i, image in enumerate(images):\n",
    "\n",
    "        print(f\"Processing page {i+1}/{len(images)}...\")\n",
    "        all_images.append(image)\n",
    "        \n",
    "        # Blocking\n",
    "        # output = generate(\n",
    "        #     model, processor, formatted_prompt, [image], max_tokens=8192, verbose=True\n",
    "        # )\n",
    "\n",
    "        # Streaming\n",
    "        output = \"\"\n",
    "        for token in stream_generate(\n",
    "            model, processor, formatted_prompt, [image], max_tokens=8192, verbose=False\n",
    "        ):\n",
    "            output += token.text\n",
    "            if \"</doctag>\" in token.text:\n",
    "                break\n",
    "        \n",
    "        all_outputs.append(output)\n",
    "\n",
    "    # # Prepare arguments for parallel processing\n",
    "    # process_args = [\n",
    "    #     (image, model, processor, config, formatted_prompt, i)\n",
    "    #     for i, image in enumerate(images)\n",
    "    # ]\n",
    "    \n",
    "    # # Process pages in parallel\n",
    "    # all_outputs = [\"\"] * len(images)  # Pre-allocate list\n",
    "    # all_images = [None] * len(images)  # Pre-allocate list\n",
    "    \n",
    "    # with concurrent.futures.ThreadPoolExecutor(max_workers=MAX_WORKERS) as executor:\n",
    "    #     futures = [executor.submit(process_single_page, args) for args in process_args]\n",
    "    #     for future in tqdm(\n",
    "    #         concurrent.futures.as_completed(futures),\n",
    "    #         total=len(images),\n",
    "    #         desc=\"Processing pages\",\n",
    "    #         unit=\"page\"\n",
    "    #     ):\n",
    "    #         page_num, output, image = future.result()\n",
    "    #         all_outputs[page_num] = output\n",
    "    #         all_images[page_num] = image\n",
    "    \n",
    "    # Create DoclingDocument\n",
    "    doctags_doc = DocTagsDocument.from_doctags_and_image_pairs(all_outputs, all_images)\n",
    "    doc = DoclingDocument(name=Path(pdf_path).stem)\n",
    "    doc.load_from_doctags(doctags_doc)\n",
    "    \n",
    "    return doc\n",
    "\n",
    "def save_document(doc: DoclingDocument, output_path: Union[str, Path], format: str = \"markdown\"):\n",
    "    \"\"\"\n",
    "    Save the processed document in the specified format.\n",
    "    \n",
    "    Args:\n",
    "        doc: DoclingDocument to save\n",
    "        output_path: Path where to save the output\n",
    "        format: Output format ('markdown', 'html', or 'json')\n",
    "    \"\"\"\n",
    "    output_path = Path(output_path)\n",
    "    \n",
    "    # Create directory if it doesn't exist\n",
    "    output_path.parent.mkdir(parents=True, exist_ok=True)\n",
    "    \n",
    "    print(f\"Saving output as {format} to: {output_path}\")\n",
    "    \n",
    "    if format.lower() == \"markdown\":\n",
    "        result = doc.export_to_markdown()\n",
    "        output_path = output_path.with_suffix(\".md\")\n",
    "        with open(output_path, \"w\", encoding=\"utf-8\") as f:\n",
    "            f.write(result)\n",
    "    \n",
    "    elif format.lower() == \"html\":\n",
    "        doc.save_as_html(output_path.with_suffix(\".html\"), image_mode=ImageRefMode.EMBEDDED)\n",
    "    \n",
    "    elif format.lower() == \"json\":\n",
    "        doc_dict = doc.export_to_dict()\n",
    "        with open(output_path.with_suffix(\".json\"), \"w\", encoding=\"utf-8\") as f:\n",
    "            json.dump(doc_dict, f, indent=4)\n",
    "    \n",
    "    else:\n",
    "        raise ValueError(f\"Unsupported format: {format}\")"
   ]
  },
  {
   "cell_type": "code",
   "execution_count": 11,
   "metadata": {},
   "outputs": [],
   "source": [
    "# Define example PDF path\n",
    "pdf_path = \"../dataset/cybersecurity-report/bcs-insights-report-2021.pdf\"\n",
    "output_path = \"output\""
   ]
  },
  {
   "cell_type": "code",
   "execution_count": 12,
   "metadata": {},
   "outputs": [
    {
     "name": "stdout",
     "output_type": "stream",
     "text": [
      "Processing PDF: ../dataset/cybersecurity-report/bcs-insights-report-2021.pdf\n",
      "Total pages: 34\n",
      "Processing page 1/34...\n"
     ]
    },
    {
     "name": "stderr",
     "output_type": "stream",
     "text": [
      "/Users/enb/Project/freelance/nan-medium-material/.venv/lib/python3.11/site-packages/transformers/tokenization_utils_base.py:2718: UserWarning: `max_length` is ignored when `padding`=`True` and there is no truncation strategy. To pad to max length, use `padding='max_length'`.\n",
      "  warnings.warn(\n"
     ]
    },
    {
     "name": "stdout",
     "output_type": "stream",
     "text": [
      "Processing page 2/34...\n",
      "Processing page 3/34...\n",
      "Processing page 4/34...\n",
      "Processing page 5/34...\n",
      "Processing page 6/34...\n",
      "Processing page 7/34...\n",
      "Processing page 8/34...\n",
      "Processing page 9/34...\n",
      "Processing page 10/34...\n",
      "Processing page 11/34...\n",
      "Processing page 12/34...\n",
      "Processing page 13/34...\n",
      "Processing page 14/34...\n",
      "Processing page 15/34...\n",
      "Processing page 16/34...\n",
      "Processing page 17/34...\n",
      "Processing page 18/34...\n",
      "Processing page 19/34...\n",
      "Processing page 20/34...\n",
      "Processing page 21/34...\n",
      "Processing page 22/34...\n",
      "Processing page 23/34...\n",
      "Processing page 24/34...\n",
      "Processing page 25/34...\n",
      "Processing page 26/34...\n",
      "Processing page 27/34...\n",
      "Processing page 28/34...\n",
      "Processing page 29/34...\n",
      "Processing page 30/34...\n",
      "Processing page 31/34...\n",
      "Processing page 32/34...\n",
      "Processing page 33/34...\n",
      "Processing page 34/34...\n"
     ]
    }
   ],
   "source": [
    "# Process the pdf document\n",
    "doc = process_pdf(pdf_path, model, processor, config)\n",
    "\n",
    "# NOTE:\n",
    "# Memory swap allocation spent 6-9GB and memory allocation spent around 3GB.\n",
    "\n",
    "# ERROR: \n",
    "# PDFInfoNotInstalledError: Unable to get page count. Is poppler installed and in PATH?\n",
    "# Solution -> brew install poppler"
   ]
  },
  {
   "cell_type": "code",
   "execution_count": 13,
   "metadata": {},
   "outputs": [
    {
     "name": "stdout",
     "output_type": "stream",
     "text": [
      "Saving output as markdown to: output\n"
     ]
    }
   ],
   "source": [
    "# Save the output\n",
    "save_document(doc, output_path, format=\"markdown\")"
   ]
  },
  {
   "cell_type": "code",
   "execution_count": 14,
   "metadata": {},
   "outputs": [
    {
     "name": "stdout",
     "output_type": "stream",
     "text": [
      "Saving output as html to: output\n"
     ]
    }
   ],
   "source": [
    "# Save the output\n",
    "save_document(doc, output_path, format=\"html\")"
   ]
  },
  {
   "cell_type": "code",
   "execution_count": 15,
   "metadata": {},
   "outputs": [
    {
     "name": "stdout",
     "output_type": "stream",
     "text": [
      "Saving output as json to: output\n"
     ]
    }
   ],
   "source": [
    "# Save the output\n",
    "save_document(doc, output_path, format=\"json\")"
   ]
  },
  {
   "cell_type": "markdown",
   "metadata": {},
   "source": [
    "### Self Corrective RAG - LangGraph"
   ]
  },
  {
   "cell_type": "code",
   "execution_count": 125,
   "metadata": {},
   "outputs": [],
   "source": [
    "# Load libraries\n",
    "import os\n",
    "import json\n",
    "import operator\n",
    "from dotenv import load_dotenv\n",
    "\n",
    "from langgraph.graph import END\n",
    "from langchain_groq import ChatGroq\n",
    "from langchain.schema import Document\n",
    "from langgraph.graph import StateGraph\n",
    "from langchain_huggingface import HuggingFaceEmbeddings\n",
    "from langchain_core.messages import HumanMessage, SystemMessage\n",
    "from langchain_community.vectorstores import SKLearnVectorStore\n",
    "from lettucedetect.models.inference import HallucinationDetector\n",
    "from langchain.text_splitter import RecursiveCharacterTextSplitter\n",
    "from langchain_community.tools.tavily_search import TavilySearchResults\n",
    "from langchain_community.document_loaders.markdown import UnstructuredMarkdownLoader\n",
    "\n",
    "from typing import List, Annotated\n",
    "from warnings import filterwarnings\n",
    "from typing_extensions import TypedDict\n",
    "from IPython.display import display, Markdown, clear_output, Image\n",
    "\n",
    "load_dotenv(\"../.env\")\n",
    "filterwarnings(\"ignore\")"
   ]
  },
  {
   "cell_type": "code",
   "execution_count": 126,
   "metadata": {},
   "outputs": [],
   "source": [
    "# Setup view markdown function\n",
    "def display_md(text):\n",
    "    clear_output()\n",
    "    display(Markdown(text))\n",
    "\n",
    "# Post-processing function to format documents\n",
    "def format_docs(docs):\n",
    "    return \"\\n\\n\".join(doc.page_content for doc in docs)"
   ]
  },
  {
   "cell_type": "code",
   "execution_count": 162,
   "metadata": {},
   "outputs": [],
   "source": [
    "# Set environment variable\n",
    "os.environ[\"GROQ_API_KEY\"] = os.getenv(\"GROQ_API_KEY\")\n",
    "\n",
    "MAX_RETRIES = 3\n",
    "TEMPERATURE = 0.5\n",
    "# GROQ_MODEL_NAME = os.getenv(\"GROQ_MODEL_NAME\", \"llama-3.3-70b-versatile\")\n",
    "GROQ_MODEL_NAME = \"llama3-70b-8192\""
   ]
  },
  {
   "cell_type": "code",
   "execution_count": 163,
   "metadata": {},
   "outputs": [],
   "source": [
    "# Setup LLM\n",
    "\n",
    "## Initialize ChatGroq with specified model and parameters\n",
    "llm = ChatGroq(\n",
    "    model=GROQ_MODEL_NAME,\n",
    "    temperature=TEMPERATURE,\n",
    "    max_tokens=None,\n",
    "    timeout=None,\n",
    "    max_retries=MAX_RETRIES\n",
    ")\n",
    "\n",
    "## Initialize ChatGroq with JSON response format\n",
    "llm_json_mode = ChatGroq(\n",
    "    model=GROQ_MODEL_NAME,\n",
    "    temperature=TEMPERATURE,\n",
    "    max_tokens=None,\n",
    "    timeout=None,\n",
    "    max_retries=MAX_RETRIES,\n",
    "    response_format={\"type\": \"json_object\"},\n",
    ")"
   ]
  },
  {
   "cell_type": "code",
   "execution_count": 5,
   "metadata": {},
   "outputs": [],
   "source": [
    "# Load markdown file\n",
    "document = [UnstructuredMarkdownLoader(\"output.md\").load()]"
   ]
  },
  {
   "cell_type": "code",
   "execution_count": 6,
   "metadata": {},
   "outputs": [
    {
     "data": {
      "text/plain": [
       "[Document(metadata={'source': 'output.md'}, page_content='BCS Insights 2021\\n\\nCONTENTS\\n\\n03\\n\\nINTRODUCTION\\n\\n04 DIVERSITY 2021: SLOW PROGRESS IS SOME PROGRESS\\n\\n07 Key ONS findings, gender\\n\\n08 Key ONS findings, age\\n\\n09 Key ONS findings, disability\\n\\n10 Key ONS findings, ethnicity\\n\\n12 IT LEADERS\\n\\n17 Key findings, IT Leaders\\n\\n18 CYBER SECURITY: SECURITY SPIDER SENSE\\n\\n18 Key findings, Cyber security\\n\\n24 ETHICAL DILEMMAS\\n\\n26 SUSTAINABLE COMPUTING\\n\\n30 SHORT AND SHARP SURVEYS\\n\\nINTRODUCTION\\n\\nWelcome to our third annual Insights event. It was in 2019 that we debuted this highly successful new event, designed to give a platform for interesting and provocative thinking relating to technology and to showcase our research insights. In 2020 we went virtual, for obvious reasons, and this continues with our 2021 event.\\n\\nBCS\\'s aim to make IT good for society has never been more important - and the pandemic has only made that more obvious. Alongside this is the evergrowing concern over the climate crisis so, whilst we will continue to champion the great things technology has done for us, we will also continue to call out where improvement is needed, identify what needs to be more closely analysed and take a role in addressing those issues.\\n\\nWe view Insights as a place to demonstrate BCS as a convener of thought. With the societal concerns we now face as a backdrop, we look at how technology can help: the importance of professionalism in the IT workforce, how we can achieve sustainable computing, the need for a diverse profession that represents all, and the importance of digital inclusion for all members of society.\\n\\nThis publication takes a high-level view of the research we have undertaken over the last year. There are raw numbers given on key topics, produced from the more than 13,000 responses we had to our survey work this year. This is given a narrative by comments we get from members, reflecting the views of those actually working in our industry. The research herein gives a snapshot of contemporary issues in IT leadership, diversity, sustainable computing and more.\\n\\nDIVERSITY 2021: SLOW PROGRESS IS SOME PROGRESS\\n\\nBCS has produced four reports analysing the ONS Labour Force survey, looking at diversity issues in the IT space. For IT the picture is mixed but with some encouraging trends. From an employer point of view, it is perhaps a tale of opportunities missed, but with implied potential.\\n\\nFor a number of years now, starting back with the BCSWomen Group, BCS, has been tracking and reporting upon levels of female representation within the IT labour market. The idea was to highlight areas of concern for the industry and to provide supporting evidence for those seeking to improve the gender balance within IT.\\n\\nIn 2017, we expanded the reach of our analysis to cover other aspects of the Equality Act 2010\\'s nine protected characteristics. The commentary now includes figures on people with disabilities, ethnic minorities and older workers.\\n\\nThe insights contained within this article are drawn from four reports where we have analysed secondary data from the ONS Labour Force Survey. These reports aim to inform BCS policy as we provide a definitive source of information concerning the levels of \\'minority\\' representation amongst the IT professions. We also want to identify and explore the extent to which the market is failing those from minority groups, as demonstrated by below-average levels of representation and compensation amongst these groups, but also celebrate where IT performs well.\\n\\n19% OF IT SPECIALISTS IN THE UK WORKFORCE WERE FEMALE IN 2020\\n\\nGENDER\\n\\nIn raw numbers, there were 312,000 female IT specialists in the UK workforce during 2020. This represented 19% of the total at that time, a low figure, but one that also shows improvement. The level of female representation in IT has increased over the past five years, in 2018 the figure was at 226,000. We could represent this as a 38% increase - very good - although the wider picture is still that female representation remains well below the level observed within the workforce as a whole (48%).\\n\\nThere are localised bright spots - in Scotland this figure runs to 23%. And certain disciplines have better female participation. In web design and development there is 35% female participation, and IT project and programme managers are 26% female.\\n\\nThis varies across industry too. Public services, for example, have 32% female IT workforces, but that is against 71% female employment across other occupations in the same sector.\\n\\nA higher proportion of female IT specialists are employed in large organisations (250+) compared with males (50% versus 41%).The female earning figures are still below their male counterparts, although they are ahead of the \\'all occupations\\' figure for male and female.\\n\\nAnother positive is in the area of responsibility : this is better for female IT specialists: 34% are in responsible positions, compared to 32% across professions in general.\\n\\nAnd as a comment on potential, females are more likely to be qualified to degree level - 67% versus 61% in men and that gap has increased since 2019.\\n\\n10% OF IT SPECIALISTS IN THE UK HAVE DISABILITIES (DDA DEFINITION)\\n\\nETHNICITY\\n\\nThe figures have always looked slightly better in IT professions with an ethnicity lens - although within individual ethnicities the picture becomes much more complex. As a headline positive, at 18%, ethnic minority representation was higher amongst IT specialists than within the UK workforce as a whole, which was 12% in 2020. In total there were 300,000 ethnic minority IT specialists in the UK, an increase on the 2018 number which was 266,000, but down a percentage point.\\n\\nEthnic minorities are better represented in London (32%) and in the area of business analyst (26%). However, in 2019 the London figure ran to 35%. For a comparison example in disciplines, in business analysis representation of ethnic minorities has grown from 23% to 26%, overtaking project and programme managers as the leading discipline from 2019.\\n\\nOn the other end of the scale, in Northern Ireland only 4% of the IT workforce are from ethnic minorities, with specialist IT managers from the whole of the UK running at 12% - although for context 12% is the current representation of all ethnic minorities in the UK workforce as a whole.\\n\\nWe can see potential reflected by qualification level because almost nine in ten ethnic minority IT specialists have an HE level qualification (87%) compared with less than seven in ten (67%) of those from white ethnic groups.\\n\\nDigging into specific ethnicities is trickier. However, some trends do emerge. Professionals with Indian heritage are very well represented in 2020 - with their representation as IT specialists running at 9% against 3% in other occupations - this figure holds from 2019.\\n\\nHowever, those from \\'Black/ African/Caribbean/Black British\\' background have dropped - 2% representation in IT specialism against 3% in other occupations. In 2019 there was parity in these figures.\\n\\nDISABILITY\\n\\nThe outlook for those with disabilities is consistently less good. The background is that people with visible and invisible differences already start at a disadvantage: though accounting for 20% of the working age population in 2020, people with disabilities constituted only 14% of the total UK workforce.\\n\\nThere were 158,000 IT specialists in the UK with disabilities in 2020 - 10% of all IT specialists in the UK at that time, although this is slightly up from 2019\\'s 128,000 (9%)\\n\\nA small ray of light in terms of attitude is reflected in the finding that IT specialists with disabilities are more likely to receive job-related education training, with 30% stating they had received some in the previous 13 weeks during 2020 (compared with 23% of those without disabilities). This is also up from 2019 at 28%.\\n\\nAGE\\n\\nThe background for age is that people aged 50 and above accounted for 31% of the working age population in 2020, and 30% of those in work.\\n\\nIn the potential category, if representation in IT were equal to the workforce \\'norm\\' there would have been an additional 119,000 IT specialists in the UK aged 50 or above, or 480,000 in total. The potential in 2019 was 95,000, so the picture for older professionals is getting worse, although the potential pool of experience has commensurately increased for organisations.\\n\\nIn 2020 there were estimated to be around 13,000 unemployed IT specialists in the UK aged 50 and over, which equates to an unemployment rate of 3.4% - well above the rate for IT specialists aged 16-49 (2.2%). In 2019 this was 8,000, so again a significant worsening.\\n\\nUnsurprisingly, older IT specialists (aged over 50) are notably more likely to hold \\'responsible positions\\' - almost half (47%) having managerial/ supervisory status in their job (compared with 38% of younger IT specialists, those aged below 50). But, again, this is down from 2019\\'s 52%.\\n\\nIn the broader UK picture a related upward trend is in qualification level: Younger IT specialists are much more likely to hold an IT degree than those aged 50 and above (14% versus 8% during 2020).\\n\\nWhere next? There are still plenty of areas to be explored in how we get everyone genuinely involved in the information society. Our four reports don\\'t really touch on neurodiversity issues; there are other protected characteristics in the Equality Act; there will undoubtedly be positive and negative changes post-COVID with, amongst other things, more normalised remote working. BCS will continue picking these subjects up.\\n\\nTerminology evolves too - for example you will note we have dropped the term BAME from the reports this year. Whilst nuance is important, if difficult to achieve, BCS is committed to being as inclusive as we can, which is why we like to hear from members about their personal experiences.\\n\\nThe full reports are available at:\\n\\nBCS.ORG\\n\\nIf you have an experience you\\'d like to share please email:\\n\\neditor@bcs.org\\n\\nKEY ONS FINDINGS GENDER 2021\\n\\n· Women accounted for 50% of the working age population in 2020 (those aged 16-64), 48% of those in work and 45% of the unemployed.\\n\\n· There were 312,000 female IT specialists in the UK workforce during 2020 - 19% of the total at that time.\\n\\n· If gender representation in IT were equal to the workforce \\'norm\\' there would have been an additional 466,000 IT specialists in the UK and 778,000 female IT specialists in total in 2020.\\n\\n· The level of female representation in IT varies by job type - from around one in twenty IT / Telecoms engineers (5% in each case over the 2016-20 period), to around one in three web designers/developers (35%) and IT operations technicians (32%).\\n\\n1.7% 1.7%\\n\\nThe unemployment rate for female IT specialists in 2020 was 2.7% - higher than for that male IT specialists (2.4%) but less than the overall rate for the UK labour market (3.2%).\\n\\nThe incidence of self-employment amongst female IT specialists (5%) was less than half the level recorded by men working in IT positions (11%).\\n\\n· One half (50%) of female IT specialists working as employees were employed at large business sites (250 or more staff) compared with 41% of males.\\n\\n· Just under four in ten female IT specialists (38%) were working in IT businesses in 2020 - a notably lower proportion than that recorded for male IT specialists at that time (4%).\\n\\n· Female IT specialists were five times more likely to be working part-time than males (i.e. 15% versus 3%) during 2020 - most often as they did not want full-time work.\\n\\n· At £19 per hour, the median hourly earnings for female IT specialists in 2020 was 13% less than that recorded for males working in IT positions.\\n\\n· In 2020, female IT specialists (that were employees) appeared notably less likely than males to be in \\'positions with responsibility\\' (comparison figures of 34% and 42% respectively).\\n\\n· Female IT specialists are marginally more highly qualified than their male counterparts and in 2020, with more than seven in ten (73%) had a degree or equivalent level qualification.\\n\\n· Just 6% of female IT specialists had an IT degree compared with 14% of their male counterparts.\\n\\n· The most with common means of IT specialists (male/ female) securing a job during the 2016-20 period was by replying to an advertisement\\'.\\n\\nKEY ONS FINDINGS AGE 2021\\n\\n· People aged 50 and above (50+) accounted for 31% of the working age population in 2020 (those aged 16-64), 30% of those in work and 21% of the unemployed.\\n\\n· Of the 1.62m IT specialists based in the UK in 2020, just 22% (362,000) were aged 50 or above and if representation in IT were equal to the workforce \\'norm\\' there would have been an additional 119,000 IT specialists in the UK aged 50 or above or 480,000 in total.\\n\\n· Across the UK, representation of older people in IT positions was lowest in London where just 16% were aged 50 and above during 2020.\\n\\n· Only around one in ten (10%) web designers/ developers were found to be aged 50 and above (over the 2016-20 period) whilst amongst IT Directors, more than one third (35%) were of in this age band (2020).\\n\\n· In 2020 there were estimated to be around 13,000 unemployed IT specialists in the UK aged 50 and over equating to an unemployment rate of 3.4% - well above the rate for IT specialists aged 16-49 (2.2%).\\n\\n· Older IT specialist were more likely to be working on a self-employed basis than their younger counterparts (13% versus 9%) and were also more likely to be working part-time (9% versus 4%).\\n\\nIT specialists aged 50+ were also much more likely than others to be working in micro business sites (22% compared with 12% of those in younger age groups during 2020).\\n\\nThe median hourly earnings for older IT specialists in 2019 was £24 per hour - 15% more than that for IT specialists as a whole.\\n\\n· Older IT specialists are notably more likely to hold \\'responsible positions\\' - almost than half (47%) having managerial/supervisory status in their job (compared with 38% of younger IT specialists).\\n\\n13,000\\n\\nUNEMPLOYED IT SPECIALISTS IN THE UK IN 2020\\n\\n· Older IT specialists are less likely to have an HE qualification and in 2020 only 66% of those aged 50 and had a qualification at this level compared with 72% of those aged 16-49.\\n\\n· Younger IT specialists are also much more likely to hold an IT degree than those aged 50 and above (8% versus 14% during 2020).\\n\\n· Older IT specialists are notably more likely to obtain employment through recruitment agencies, and much less likely to do so via direct applications than their younger counterparts.\\n\\nKEY ONS FINDINGS DISABILITY 2021\\n\\n· Though accounting for 20% of the working age population in 2020, people with disabilities constituted only 14% of the total UK workforce.\\n\\n· There were 158,000 IT specialists in the UK with disabilities in 2020 - 10% of all IT specialists in the UK at that time.\\n\\n· If representation in IT were equal to the workforce \\'norm\\' there would have been an additional 65,000 IT specialists in the UK with disabilities - 223,000 in total.\\n\\n· Representation of people with disabilities in the workforce varies across the UK from 8% of IT specialists in London, Scotland and the West Midlands to 13% of those in the South West of England.\\n\\n· Representation of people with disabilities also varies with IT role - from just 8% of \\'Specialist IT Managers\\' (2020) to 15% of IT Operations Technicians.\\n\\n· Over the 2019-20 period, approximately 13% of all unemployed IT specialists in the UK had some form of disability (4,000 on average) and the associated unemployment rate (2.7%) was notably higher than that recorded for IT specialists as a whole (2.0%).\\n\\n· Representation of IT specialists with disabilities is lowest in the Banking/Finance and Manufacturing sectors (8% in each case over the 2016-20 period)\\n\\nIn 2020 the gross hourly pay for IT specialists with disabilities was £19phr - 88% of the remuneration for IT specialists without disabilities (£21phr).\\n\\nIn 2020 approximately 64% of IT specialists with disabilities held a degree/HE level qualification compared with 71% of those without disabilities and 41% of workers with disabilities in other occupations.\\n\\n· Around one in six (15%) of IT specialists with disabilities hold a degree in an IT related discipline.\\n\\n13%\\n\\nOF ALL UNEMPLOYED IT SPECIALISTS IN THE UK HAD SOME FORM OF DISABILITY\\n\\n· IT specialists with disabilities are more likely to receive job-related education/ training with 30% stating it had been received in the previous 13 weeks during 2020 (compared with 23% of those without disabilities).\\n\\n· Disabled IT specialists are notably less likely to gain work via \\'in company\\' contacts than those without disabilities (15% versus 17% stating that they had gained work in this way during the 2016-20 period).\\n\\nKEY ONS FINDINGS ETHNICITY 2021\\n\\n· Individuals from ethnic minorities accounted for 14% of the working age population in 2020 but only 12% of those in work and 21% of the unemployed.\\n\\n· At 18%, ethnic minority representation was higher amongst IT specialists than within the workforce as a whole (12%) in 2020 and in total there were 300,000 ethnic minority IT specialists in the UK at that time.\\n\\n· Ethnic minority representation amongst IT specialists varies significantly across the UK from just 4% in Northern Ireland of England to 32% in London.\\n\\n· Ethnic minority representation amongst IT specialists in 2020 ranged from just 12% of specialist IT managers and web designers / developers - to 26% of business analysts.\\n\\n· Ethnic minority IT specialists were twice as likely to be working in non-permanent positions as their \\'white\\' counterparts (6% versus 3% respectively).\\n\\n· There were approximately 10,000 unemployed IT specialists from ethnic minority groups in the UK during 2020 - 24% of all unemployed IT specialists in the UK at that time.\\n\\n· The corresponding unemployment rate for ethnic minority IT specialists (3.2%) was notably higher than that of their \\'white\\' counterparts (2.3%).\\n\\n· Ethnic minority IT specialists were more likely to be self-employed than other IT staff during 2020 (13% compared with 9% of those from white ethnic groups).\\n\\nJust over one half (52%) of all ethnic minority IT specialists were working in IT businesses in 2020 - a higher proportion than for those of white ethnic origin (45%) and IT specialists as a whole (45%).\\n\\nEthnic minority representation was lowest within the manufacturing sector where just 8% of IT specialists were from minority ethnic groups.\\n\\n\\'ETHNIC MINORITY IT SPECIALISTS ARE LESS LIKELY TO BE IN POSITIONS OF RESPONSIBILITY THAN THOSE OF WHITE ETHNICITY\\'\\n\\n· In 2020, ethnic minority IT specialists (full-time employees) were earning the same as white/ all IT specialists as a whole, with median hourly rates in each case of £21prh.\\n\\n· Ethnic minority IT specialists are less likely to be in \\'positions of responsibility\\' than those of white ethnicity with 37% and 41% respectively stating that they were a manger/foreman or team leader in 2020.\\n\\n· Almost nine in ten ethnic minority IT specialists have an HE level qualification (87%) compared with less than seven in ten (67%) of those from white ethnic groups.\\n\\n· Ethnic minority IT specialists are less likely than others to find employment from contacts in post (21% compared with 24% of white IT specialists over the 2016-20 period).\\n\\nIT LEADERS: THE IT LEADERS VIEW\\n\\nAt the beginning of each year BCS likes to get views from digital leaders on their expectations, concerns, skills needs and more. Like no other year, 2020 showed just how reliant all organisations are on the IT function. The effect on IT leaders, in the tech and people context, has been commensurately large.\\n\\nWith 2020 showing us how much we need IT expertise, IT competency and dependable systems, the so-called \\'soft skills\\' of caring for the team and empathetic leadership have also come into their own.\\n\\nThis is shown in some of the biggest changes in numbers seen in the BCS IT Leaders survey in recent years. But the numbers also demonstrate that when IT leaders raise issues that need addressing (security and cloud loom large, yet again) they know of what they speak.\\n\\nIt is hardly surprising that responders this year have had things to say about good people management, business continuity strategy and, as always, where they feel their concerns and gaps are most pressing.\\n\\nWHAT CHANGED ACROSS 2020?\\n\\nThe highest scoring priorities for 2021: \\' operational efficiencies ; business transformation and organisational change ; and remote and distributed working ; represent a shift in the patterns of recent years. This is no doubt due to the uncertain nature of the year and is reflected in the drop in the position of \\'continuous innovation : It was first in 2019, with 54%; in 2020, it was second overall with 53% - this year, it dropped to fifth place.\\n\\nConversely, \\'staff engagement and well-being\\' was prioritised by 44% as a top five answer for 2021: a significant leap from the 32% who rated this in the top five in 2020\\'s report.\\n\\nSimilar trends were reflected when choosing the organisation\\'s top priority. Again, \\'staff engagement\\' rose significantly - it was only a top priority for 3% in 2020 and 4% in 2019 but hit 10% this year.\\n\\nOperational efficiency ; too, is on a general upward trend. It was rated as the top priority by 10% in 2019, 17% in 2020, with 15% this year.\\n\\nMOST IMPORTANT TECHNOLOGIES\\n\\nThe highest scoring technology priorities were consistent with recent years - which reflects well on previous strategies, but the relative importance was even stronger. \\'Cybersecurity\\' and \\'cloud\\' were tied with a 61% strike rate, with \\'business process automation\\' following in third position.\\n\\n\\'Cybersecurity\\' and \\'cloud\\' were also joint top in 2020 but with only a 52% strike rate; similar numbers were recorded in 2019. In 2019, \\'business process improvement scored 36%, so 2021\\'s 47% is again a significant jump.\\n\\nUnsurprisingly, these trends were also reflected in the choice of top technology priority.\\n\\n\\'Cybersecurity\\' was chosen by 8%, \\'cloud\\' and \\'business process automation\\' by 15%, with \\'agile methods\\' much-improved at 14%.\\n\\nFor comparison, in 2020, business process automation was chosen as top priority by 10%, with \\'agile methods\\' at 4%, in 2019, \\'business process automation\\' was 12% with \\'agile methods\\' at 7%.\\n\\nIt will come as little surprise after a tumultuous year that optimism about achieving organisational goals is low. Only 9% of participants feel their organisation has enough resources to achieve success in 2021. This compares to a steady (although still very low) 12% in both 2020 and 2019.\\n\\nSo, what has led to IT leaders having a record-breaking (in BCS survey terms) low expectation of success in 2021? One of the key questions we\\'ve asked over the years of this survey, \\'What changes and trends in IT keep you awake at night?\\' offers some insight.\\n\\nThe general picture from these verbatims is very much in keeping with the figures, with the two main answers being \\'cybersecurity\\' and \\'cloud\\'.\\n\\nTwo respondents summed these up neatly. On security: \\'Cybersecurity is a big worry. Most of the rest we are in control of - the inputs and outputs - but we cannot control bad actors. How much defence is enough?\\'\\n\\nOf course, some other regular contenders were well represented: 5G, AI, legal compliance, Brexit, change management, capability gaps, data proliferation, decoupling data from legacy systems (Editor\\'s note: we have earmarked to explore what it really means in 2021), digital transformation and optimisation, disaster planning, digital literacy of general workforce, resilience and shadow IT.\\n\\nThe need to adjust to a changed 2021 provoked comments on what organisations will need to keep going. For example, the \\'ability to keep up and adapt without incurring unnecessary expenditure,\\' and \\'to support large numbers of end users with new platforms.\\'\\n\\nRISK RADAR\\n\\nWhat else should we be aware of? Some comment highlights include:\\n\\n\\'Articulating business value: \\'Being able to provide the latest IT services quickly enough for our business to deliver applications to our customers.\\' Higher expectations for software security, unrealistic expectations for AI, reliability of deep-learning systems.\\'\\n\\nBeing a broad technology church at BCS means we also elicit some domain-specific comments. One comment raised this problem: \\'All the changes are happening \\'aster than the health service can (will) react to.\\'\\n\\n\\'MAKING SURE THE BALANCE IS RIGHT BETWEEN USER NEEDS, ORGANISATION NEEDS\\'\\n\\nNaturally enough, many of the concerns raised in the survey that will affect 2021 arise from 2020\\'s situation: \\'During this pandemic, platforms like Zoom, Teams, GoToMeeting, etc. have been very popular and often enabled businesses to continue to function. However, whilst they may, in some cases, have raised public and business trust in the profession, there are still too many failed IT projects.\\'\\n\\nAs noted above, innovation has taken an understandable back seat to business as usual. As one commenter said: \\'I work in the leisure sector and what keeps me awake is helping my company make it through the next year. Forget about upcoming trends, we are trying to work with 40% less staff and very little spending.\\'\\n\\nEYES ON EUROPE AND BEYOND\\n\\nInevitably, political views come in. BCS takes a neutral stance on party politics of course, but as an example, one respondent listed their concerns: \\'Lack of clarity over service provision to and from the EU. Losing all my biggest clients who are based in the EU. Brexit/government is a joke.\\'\\n\\nSome larger unknowns also came up: \\'Scale of technical debt vs the imperative to address this very quickly (and at acceptable cost) in order to meet the changing needs of the world. Also, the difficulty of delivering complex change at scale.\\'\\n\\nAnother comment concerned how to \\'articulate the shift to operational expenditure model with a traditional organisation that expects a certain level of capital expenditure. And recruitment of staff with concerns about IR35 statutory changes.\\'\\n\\nSome raised organisational maturity: \\'I am keen that we are\\n\\nworking on strategically planned objectives and are innovative and creative. However, some of our drivers would require tactical solutions and we need to provide routes to create that flexibility. I am not sure we are mature in that way.\\'\\n\\nHere are some of the business consideration comments this survey got:\\n\\n· \\'Lack of general understanding of the mission criticality of data quality.\\'\\n\\n· \\'Keeping pace of all changes is tremendously difficult (if not impossible). Not sure a specific \\'upcoming change/trend\\' is a cause of sleepless nights - but general workload can do at times.\\'\\n\\n\\'Making sure the balance is right between user needs, organisation needs and the appropriate use of digital and tech to improve services.\\'\\n\\n\\'My organisation fails to keep up because of a lack of IT literacy amongst leaders.\\'\\n\\nWhilst there are clearly target areas of concern, there are also those with a philosophy that works for them. These two comments show either end of the spectrum:\\n\\n\\'There\\'s not enough space (in the survey) to really answer what keeps me up at night.\\' \\'Nothing keeps me up, really. Organisations that have embraced agile methodology and/or devops as part of their IT delivery process are already ahead of the curve towards adapting to any upcoming changes. For those that haven\\'t, this would be their main focus as well as building out their remote working capabilities.\\'\\n\\nTHE COVID EFFECT\\n\\nMaybe an indicator of the effect of COVID is encapsulated in this stat: concerns about Brexit ran at 14% in the top five concerns for 2020 but dropped to 8% for 2021. IT leaders were clearly more concerned with other things, for example business continuity and looking after dispersed workforces.\\n\\nBUSINESS CONTINUITY STRATEGIES\\n\\nNothing tests a business continuity or disaster preparedness plan more effectively, sadly, than an event. And we well know the effect that COVID has had on workforces, as one responder wrote: \\'100% remote working, temporary office closures, events have had to be moved online only - this has impacted our field marketing strategy significantly.\\'\\n\\nA considerable number of responders found their plans up to the task. \\'One could make the argument that COVID has been a thorough test of our continuity strategy and that the test has been passed with flying colours,\\' wrote one commenter. \\'Very little disruption has occurred despite the majority of our workforce now performing their duties from home, where previously there was a strong focus on working from fixed office locations.\\'\\n\\nCOVID has also meant that previously ad-hoc approaches to homeworking have been quickly firmed up. The move to the cloud, with an attendant collaboration mindset, has been not only needed, but imperative. Likewise, the move away from fixed hardware.\\n\\nDiscussing the change needed in threat perception, one person wrote: \\'All services are being reviewed and a programme of improvement to the ICT infrastructure has been implemented. Other planning is also underway. More monitoring of systems is taking place. The availability tiering of systems has been reviewed.\\' These are no small tasks.\\n\\n· For some, these changes were part of a progression: It accelerated change already underway - it also shifted the risk appetite to a less controlled environment.\\'\\n\\n\\'DURING COVID-19, WE HAVE SEEN INCREASES TO RESOURCES; IMPROVED RECRUITMENT PROCESS; DEVELOPMENT OF ROTAS\\'\\n\\nPLANNING AND CONTINUITY\\n\\nIn terms of planning, certain principles have been reinforced: \\'Business continuity is a continuous working. It is ongoing, so programme and documentation should not be seen as final. There are always resource changes that could impact these arrangements.\\'\\n\\n\\'During COVID-19, we have seen \\'Increases to resources; improved recruitment process; development of rotas; redevelopment of essential resources; contracts extended and budget increases. Change improvements are reflected in continuity planning, which requires continual analysis of arrangements, so we are better positioned.\\'\\n\\nWe had several comments on successes and the benefits of previously started transformation:\\n\\nBeing an IT company, not only has our own (recovery plan) been properly tested, our entire client base and the IT model we sell has proven to be the best one it could have been.\\'\\n\\nWe invested in remote working prior to the pandemic.\\'\\n\\nHowever, a certain amount of refocusing has also been provoked. Some comments:\\n\\n· \\'It has made us focus much more on resilience and failover to ensure we keep systems up for longer.\\'\\n\\n· \\'In many ways, continuity has improved with less reliance on availability of physical spaces. We are, however, now over-reliant on one key cloud infrastructure provider.\\'\\n\\n· \\'Every business needs a business continuity plan. Our business impact analysis (BIA) focused more on system/ DC outage scenarios prior to COVID-19.But business continuity planning in the workplace, i.e., business continuity for a pandemic, has become equally important now.\\'\\n\\nTHE FUTURE, NEEDS AND REQUIREMENTS\\n\\nThe new requirements of continuity were well summarised by one commenter:\\n\\n\\'We have seen increased identification of business-critical processes and personnel. Increased use of technology to overcome diverse location of teams and key business activities. Additional validation testing of people, process, technology, to achieve effective business continuity. Fast-track delivery of new VDI and zero trust network services to support agility.\\'\\n\\nCHANGES IN IT LEADERSHIP COMPETENCIES\\n\\nMuch has been made over the years about soft skills, especially in IT, where the kneergerk response is often that managers and leaders can be too technical (the nerd/geek stereotype of empathy deficiency). The overwhelming number of comments here paint a different picture and the importance of empathy and trust came through strongly. Said one responder: \\'COVID-19 has made us think more about our staff and how we support them. It has brought out the softer skills in good ICT leaders.\\'\\n\\nWhat has been required of leaders in this situation, which one responder said has allowed us to \\'think laterally about remote working\\'?\\n\\nHere are some noteworthy replies:\\n\\n\\'It has forced IT leaders to be much more business-andvalue-focused rather than ITcentric in their thinking.\\'\\n\\n\\'A leader needs to take care of their people, especially when so many of our colleagues have lost their jobs. A good leader, whether or not they are in IT, will do this. The ability to think on your feet and prioritise when so much of the workforce is working from home is essential.\\'\\n\\n\\'There is increased focus in developing soft skills such as emotional intelligence, storytelling and managing time.\\'\\n\\nMORE ON COVID-19\\n\\nWill COVID lead to a weeding out of leadership teams? One person said that it has \\'exaggerated the deficiencies of the less able leaders\\'. And, from the technical perspective, \\'Anyone who thought the future is on-premise only is probably out of a job. Cloud has got everyone working from home so if you are not thinking cloud first then that is a problem.\\'\\n\\nWhat are some of the other negatives that need further addressing?\\n\\n\\'It has shown that \"know-italls\" don\\'t actually know it all and that we are not immune to the basic business practices or continuity planning…\\'\\n\\n\\'It has become reactive in 2020 where we need to be strategic.\\'\\n\\n\\'It\\'s definitely highlighted weaknesses in IT management for a number of companies. In the job market, I have noticed more IT management positions asking for more skill sets than usual but for the same salary. For me, strategy and project management skills have been tested rigorously.\\'\\n\\nWhat other positive effects have been felt by IT leaders? Here are some comments:\\n\\n\\'We\\'re taken more seriously by senior management.\\'\\n\\n\\'We\\'ve become more human and understanding of different working practice models.\\'\\n\\nCAPABILITY GAPS\\n\\nWe asked those surveyed to give free text answers of where they saw the capability gaps in their organisations. A lot of answers came with a cloud flavour:\\n\\ncloud adoption and migration; general cloud skills (for example AWS); cloud infrastructure and security; and cloud service support especially to aid largescale homework.\\n\\nSaid one person: \\'We need more knowledge centred around onpremises infrastructure, which requires a change in development practices as we move towards a more cloud-based organisation.\\'\\n\\nIn other comments, these areas were mentioned as needing bolstering: cybersecurity, DevOps, project management, testing, legacy systems knowledge, robot process automation, SCCM knowledge and general web skills.\\n\\nSome answers were around culture issues, for example, one commenter noted an issue with employees\\' \\'willingness to learn and adapt in new and emerging technologies. Staff tend to become comfortable with existing technologies and forget to learn about the new stuff, which could offer significant benefits.\\' We need them to \\'keep on top of change in the IT and applications stack, finesse soft skills for customer handling, have a general knowledge of what is possible, be multidisciplinary, understand commercial priorities and understand digital consumer behaviour.\\'\\n\\nKEY FINDINGS AT A GLANCE\\n\\n· When asked to single out their number one priority, the top answer is business transformation and organisational change, selected by 22% of respondents. This is followed by operational efficiencies (15%) and staff engagement and well-being (10%).\\n\\n· The technologies that organisations are prioritising for 2021 are cyber security (61%), cloud (also 61%), and business process automation (47%).\\n\\n· When asked to identify their top technology priority, cyber security (18%) edges ahead of cloud (15%). Also with 15% is business process automation, closely followed by agile methods (14%).\\n\\n· Only 9% of participants feel their organisation has enough resources to achieve success in 2021.\\n\\n\\'WE NEED MORE KNOWLEDGE CENTRED AROUND ON-\\n\\nPREMISES INFRASTRUCTURE, WHICH REQUIRES A CHANGE IN DEVELOPMENT PRACTICES\\'\\n\\nSome also had a forwardlooking approach. One person was looking for \\'experience in Tameflow, a combination of agile and theory of constraints approaches. Many of our IT developers are working on old technology and use waterfall techniques. They will need training in cloud-based technology, agile methodologies, serverless architecture and UX.\\'\\n\\nAgain, we had some sectorspecific comments, such as: \\'We need a general awareness of how digital can improve the many different roles across the healthcare provision environment.\\n\\nCYBER SECURITY: SECURITY SPIDER-SENSE\\n\\nIn late 2020 BCS undertook its first large scale research on the cybersecurity issues we all face. We asked members - both of BCS\\'s security specialist groups and IT professionals in general - about their view on the state of IT security now. Nearly 700 members responded with some fascinating insights.\\n\\nThe complexity of the cybersecurity landscape makes it a vital area of interest for all - whether in IT or not. In an industry where a breach can happen through well-intentioned mistake; or through highly organised criminal activity; or via a lone teenager hacker; or through a state actor; or from a disgruntled employee, the threat surfaces are huge.\\n\\nAdd in legal compliance issues, the speed of change, user demand, the gap between business leadership and technical understanding and a multitude of other considerations and it obvious why BCS has such a thriving security community.\\n\\n· 37% of participants admitted that their organisation had detected or recorded a security incident during 2020. 25% stated that they hadn\\'t had a security incident. 22% didn\\'t know and 16% preferred not to say.\\n\\n· 42% of respondents believe their senior leadership team have sufficient skill and knowledge to manage cyber risk. 36% don\\'t think they do and 22% are neutral.\\n\\n· 61% of BCS members believe their senior leadership team understand what their organisation\\'s most valuable digital assets are.\\n\\n· From a cybersecurity perspective, nearly half of respondents (49%) are concerned about the ongoing shift to towards third party cloud computing infrastructure, platforms and software as a service. 22% are not concerned and 28% are neutral.\\n\\n· Nearly four in ten (39%) of those questioned feel that their organisation affords security enough time and consideration when deploying products in an agile way. 34% think that they don\\'t and 27% are neutral.\\n\\nSo many discussions in tech seem to reduce to terminology. Security is no different - so we asked the question as to whether it is important to make a distinction between \\'information security\\', \\'network security\\' and \\'cybersecurity\\' - 59% said it is. Leaving a significant proportion in the \\'no\\' and \\'don\\'t know\\' camps. Other answers had more decisive outcomes.\\n\\nSKILLS OUTLOOK\\n\\nAs is to be expected there was a wide range of issues on the skills gaps - both from the technical perspective and in relation to security understanding in the wider business. The specific question we asked was around what skills are most difficult to recruit for. These ranged from hard security skills - an obvious essential - to softer skills and those surrounding integrating more effectively with the business.\\n\\nSome of the harder skills listed included: red teaming skills; in-depth penetration testing, edge device protection and security postmortem deep forensics. Related deeper skills, or experience-related items, included finding \\'people who are real engineers and think solutions through properly\\', as described by one responder. Also mentioned were an awareness of governance and how it should fit in with the business; general policy knowledge, and those X factors: a conceptual understanding of risk and a security \\'spider-sense\\'.\\n\\nWe need \\'HR people who have a scoobie-doo what security is and that it is a profession based on the rule of law,\\' wrote one member. And inevitably new staff cause an issue, being, as one commenter wrote: \\'unable to discern, phishing, scam, peeking and social engineering and many other cyber security threats.\\'\\n\\nThat leads to some of the softer skills mentioned, such as empathy and an understanding of user psychology. Of course, a lot of these things need to converge. As one member out it, we need \\'pragmatic cybersecurity understanding in a business environment.\\'\\n\\nThe inherent tension here was highlighted in this comment: \\'the bigger issue is getting rounded people - it\\'s easier to find people with either very technical mindsets or very human centric mindsets but harder to find both.\\'\\n\\nAnd, picking up a long-discussed hybrid issue, one commenter wrote that we need, \\'people who can see end to end and can communicate both up and down the business both technically and nontechnically.\\'\\n\\nINCIDENTS IN 2020\\n\\nWhilst an understandable 16% of respondents preferred not say whether their organisation had suffered a security incident this year, 37% indicated they had. Of these, the top three consequences were the 33% that underwent organisational disruption, with 16% suffering website disruption and/or loss of data.\\n\\nAFTER THE EVENT WHAT DID YOUR BUSINESS DO ?\\n\\nSome of the free text answers highlighted the implications more graphically: for example the incidence of \\'brand abuse\\'. Others saw potential learning moments: Our controls caught it, so we prevented the threat of financial loss. We used the opportunity to retrain the team on external threats via phishing schemes:\\n\\nInvestigate Change procedures\\n\\nStaff debrief\\n\\n/ infrastructure\\n\\nProvide extra training\\n\\n/ apply any penalties\\n\\n/ prefer not to say\\n\\n/ other\\n\\nSource: BCS\\n\\nWhat of the business\\' reaction? The chart below lists the main responses, although one response in the free text answers demonstrates a useful attitude to finding evidence of a breach: \\'we went back to look for more.\\'\\n\\nWHAT KEEPS YOU AWAKE AT NIGHT?\\n\\nOne member felt that there exists \\'an endemic lack of interest in creating a secure environment. Security teams are severely limited in their effectiveness if not supported by other functions, such as change control, inventory management, technical delivery teams\\'.\\n\\nHere are a selection of answers to our \\'what keeps you awake at night\\' question:\\n\\n· People in my organisation that make our work very difficult because they implement security by \\'negating usability\\'\\n\\n· Security is too often treated like a compliance issue, where some boxes have to be ticked in order to avoid too much scrutiny\\n\\n· End of life software, poor patching\\n\\n· Transition to the cloud\\n\\nTHE BIGGEST CYBER THREATS\\n\\nSource: BCS\\n\\nCLOUD CONCERNS\\n\\nFor a number of years now BCS\\' IT Leaders survey has shown security and cloud issues have been neck and neck as concerns. This is well reflected in the spread of numbers to our question: from a cybersecurity perspective how concerned are you about the ongoing shift to third party cloud computing infrastructure, platforms and software as a service? 4 9% marked this with very concerned, or concerning. Only 6 9% had no concerns. Why? See the illustration below...\\n\\nWHAT CONCERNS YOU ABOUT THE CLOUD?\\n\\nBreaches through misconfiguration\\n\\nPoorly implemented access controls\\n\\nThe risk of data loss or leakage\\n\\nUnauthorised access to data via misuse of staff credentials\\n\\nSetting consistent policies/processes onsite and in cloud\\n\\nCompliance with Schrems II, GDPR and/or DPA (2018)\\n\\nCompliance\\n\\nFlawed APIs\\n\\nOther\\n\\n9%\\n\\n3%\\n\\nSource: BCS\\n\\nMany of these issues will be covered in our security pages over the next few issues. The BCS security specialist groups are filled with experts and run a lot of events to pick up just the sort of threads that are mentioned above. But for this research there was more and the forthcoming report will also cover some other very interesting current issues:\\n\\n· Effective AI use in cybersecurity - now and in the future\\n\\n· Cybercriminals\\' deployment of AI.\\n\\nAI and redundancies in the cybersecurity profession The potential for AI creating new jobs in cybersecurity The risks of 5G Look out for the publication of the full report in the e-newsletter and on MyBCS .\\n\\nETHICAL DILEMMAS\\n\\n\\'WHEN I SEE FBCS IN THE EMAIL SIGNATURE…\\'\\n\\nLate in 2020 BCS undertook its annual survey of members. This year we followed the pattern of recent surveys and asked the following question: In the past year have you or your organisation faced ethical dilemmas that you would be willing to share?\\n\\nThe idea behind this is simply to get a verbatim snapshot of recent experiences from those who are willing to share. It is not quantitative or definitive but provides an opportunity to start a conversation and get a feel for what others may be facing. Some of the comments are also not strictly about ethical situations, some for example are more clearly legal, but we have kept a selection of these in for the same reason - as a good starting point for further consideration.\\n\\nMain categories that came up were a mix of the contemporary - COVID-19 and furlough, the increasing profile of diversity concerns - through to the ongoing - IT practice, management issues, business processes and data concerns.\\n\\nThis time we also had a good number of comments on personal ethics and professionalism - with some gratifyingly positive comments on the effect of BCS and its approach.\\n\\nLet\\'s start with a member insight on track and trace…‘A\\n\\nbidding process was run for the selection of a vendor to provide the track and trace application. I was on the periphery, being asked by a participating party to help assemble a development team. At the time it was known that Apple and Google had formed a joint venture activity to build a track and trace application that worked across both their platforms. The Google-Apple software was already in place in Germany and other countries.\\n\\nHowever, the bid process continued and selected a US contractor to build a solution better than the companies that make the phones (i.e. Google and Apple). As an informed mobile technology user, it was clear that no solution that did not involve these two mobile phone manufacturers could be viable or work. However, there was no way to prevent the waste of £13M of taxpayers\\' money with the selected vendor (whose solution of course did not work). It would have been great if the BCS possessed a mechanism, body or process that could have stepped in and provided the obvious reality (in the form of advice) and potentially saved taxpayers money.\\'\\n\\nI FIND ATTITUDES TO SOFTWARE TESTING BEING SEEN AS OPTIONAL BY CLIENTS VERY FRUSTRATING\\'\\n\\nThe past year has seen a largescale change in working practice, with attendant problems: \\'There is an increased focus on this, but I still see a lot of presenteeism and part-time workers are disadvantaged when working in a project-based organisation. Hiring is a big ethical issue and IR35 has compounded this (i.e. is it right to pay twice as much to someone doing the same job?). \\'\\n\\nHere are some appetite \\'whiteters in the area of IT practice:\\n\\nI find attitudes to software testing being seen as optional by clients very frustrating. I used the analogy that you wouldn\\'t publish a report without spell checking it, however the hours for testing are always the first thing to be cut.\\'\\n\\n\\'The attitude to lawful protected disclosures is generally to treat responsible alarm raising as though it were treacherous criminal leaking. There is a Parliamentary Group trying to change this very bad attitude towards improvements needed. The ISC annual report para 1718 indicates there are no means of responsible disclosure in confidence in the UK and this is a dangerous state of imbalance. The legal helpline service is not an effective or adequate response.\\'\\n\\nDiversity issues got a number of mentions, too, this comment was particularly encouraging: \\'The Black Lives Matter protests after the murder of George Floyd were a wake-up call. I have realised how little I have done over the past 40 years in this industry to understand racism and to help Black people. I am now working with a Black organisation as a mentor, supporting the Mentor Black Businesses initiative both through donations and as a volunteer, and aiming to hire Black people or Black organisations whenever I have the opportunity to do so.\\'\\n\\nAnother member talked data concerns: \\'I approached a wellrespected resource within the National Audit Office asking whether they believed it was NAO\\'s responsibility to further data standards across the UK government. Their response was that it needed to be done, but for the last 12 years, focus and financing had been lacking, spotty and unreliable. This is the \\'watchdog\\' body for the UK government. This speaks volumes about the platitudes across our industry.\\'\\n\\nI was working in an organisation for almost a year where they were not practicing ethically. It took time for me to realise that and thanks to BCS, after realising that and left the company.\\'\\n\\nI have had to refuse to transfer of sensitive data to an external organisation since it was illegal to do so. However, were it not for my BCS training I would not have been aware that it was illegal in the first place. The module \\'professional issues is spot on.\\'\\n\\nEthical trade-offs are an interesting idea: \\'Our products were extensively used in the arms industry. We would have preferred if this were not so. We resolved this problem for ourselves by charging less (or nothing at all) to socially benign organisations.\\'\\n\\nAnd the link between BCS and professionalism is even more explicit in our two closing comments:\\n\\nLet\\'s just say that I had to remind my organisation/ peers that as a Chartered IT Professional I was bound by the BCS Code of Conduct.\\'\\n\\n\\'I work as a technical conceptual architect in a sales environment and see a lot of great and poor behaviour. When I see FBCS in the email signature I know they will try to do a good job and uphold standard and industry best practice.\\'\\n\\nThere are many more comments presented in the full report, which also covers comments on management issues and some international considerations. Members can view the BCS Ethical Dilemmas 2021 minireport on myBCS.\\n\\nTAKING THE TEMPERATURE: SUSTAINABLE COMPUTING\\n\\nETHICS REGULATION\\n\\nSpecifically, this question asked members to give their views on technologies they had seen that benefit the environment and should be used more widely.\\n\\nSuggestions ranged from the prosaic to the specialised, for example, the first category: \\'The switch on a power socket. The idea of services being available 24/7 is in many cases a bit daft given that users tend to be asleep 7-10 hours of each day and that a lot of businesses are closed for longer. Just consider the domestic modem, powered 24/7 in most cases when its users may only be conscious in the property for four or 5 hours a day. We would never senselessly leave lights on in the way we leave technology on.\\'\\n\\nKEY FINDINGS\\n\\n· 40% of participants indicated that IT is used to meet their organisation\\'s ESG goals. 21% suggested that IT isn\\'t used for this, and the rest were either neutral or their organisation did not have an ESG policy.\\n\\n· 59% of respondents feel empowered as an IT professional to speak up on greener and more ethical alternatives in their organisation\\'s tech strategy.\\n\\n· Nearly half of those questioned (45%) think that the government should be the main driver of a roadmap for IT and digital technologies that helps to achieve a greener, more sustainable society. The second choice, relevant professional bodies, scored 18%.\\n\\nAnd on a more specialised note: \\'The data and analytics derived through satellite imagery, aerial, and drone platforms will enable accurate reporting and accountability for ESG.\\'\\n\\nMeasuring and monitoring came up repeatedly, here is a selection of related comments:\\n\\n\\'For us at the BBC, being able to reduce our own datacentre footprint has been great for our energy consumption and green credentials. We tend to utilise AWS which whilst isn\\'t perfect, enables us to offset some of that effort. Virtual meeting systems have been great in reducing travel between sites (pre-covid) and essential during covid lockdown.\\'\\n\\n\\'Myriad of measuring systems that can help a genuine assessment: Vehicle load management and\\n\\nroute planning; haulage sharing; drone deliveries to remote areas.\\' Building management systems to optimise heating, lighting and ventilation.\\'\\n\\nSmart allocation of water/ herbicides/pesticides to crops, to reduce the amount needed.\\'\\n\\nSome people had an emotional and psychological benefit mindset too. For example this suggestion, that we need \\'holographic displays so you can get a real sense of being with people without having to travel.\\'\\n\\nA final idea that came up several times is one making some headway, especially amongst IT folks: \\'Principle: repairable IT! Technology should be repairable and upgradeable as opposed being ditched for a new model.\\'\\n\\nPROMOTING TECHNOLOGIES TO COMBAT THE CLIMATE CRISIS\\n\\nWe asked members to give views on how best government can help promote IT and digital technologies to effectively combat the climate crisis. Here are a sample of suggestions:\\n\\n\\'Subsidising and incentivising and de incentivising for contrary behaviour.\\'\\n\\n\\'Improve connectivity e.g. 5G and better broadband infrastructure particularly for homes as we all work remotely.\\'\\n\\n\\'Firstly, outlaw digital currencies. The massive amount of energy going into that is shocking and mostly hidden away. On the promotion-side, if they helped each household achieve a minimum bandwidth that would certainly help with future online teaching and working arrangements. Could they also stipulate a minimum number of hours working at home using IT to help reduce road/train air miles?\\'\\n\\n\\'Promoting the use of flow battery technology to balance the grid and make better use of renewables; reducing our dependence on external power generation.\\'\\n\\n\\'Tax tech giants and ensure that they are regulated so that fake news is not spread about climate science and tech consumerism!\\'\\n\\n\\'Sponsor / support technical development and information exchange.\\'\\n\\n\\'The government is travelling in the right direction but appears to lack teeth when it comes to enforcement. The first step is monitor what is going on. There are several software options to use to this end. However apart from listed companies and companies trading over a quoted threshold, the vast majority of UK companies are not legally obliged to report their emissions, hence global remedies are difficult to determine.\\'\\n\\nBy taxing alternatives like driving so that there is a clear disincentive to drive. By communicating the IT and travel hierarchy clearly - it should be more expensive to travel and easier to access video conferencing. The government could apply this on in their own frontline services (for example, job centres).\\n\\n\\'Recognising (stating) the BCS as an authoritative voice on the use of IT in relation to creating a sustainable, liveable climate.\\'\\n\\n\\'Consult with BCS GreenIT SG for suggestions.\\'\\n\\nPERSONAL EMPOWERMENT\\n\\nAs IT professionalism is a key plank of BCS strategy we also wanted to get an idea of whether professionals feel empowered to speak up on issues, and also to proffer ethical alternatives if an organisation may be taking a less than fully beneficial turn.\\n\\nA heartfelt 59% said they felt so empowered, only 24% saying no. In answer to the question what would help you feel more able to do so? this is a selection of comments:\\n\\nMore information. There\\'s very little out there on how to get started, the steps to go through. What to look for and tools.\\'\\n\\nA CIO who actually knows about \\'Rather than one who has no technical knowledge and just uses buzzwords/phrases.\\'\\n\\n\\'I can speak up about the need but do not have the knowledge about which solutions are best.\\'\\n\\nBCS\\'S ROLE\\n\\nWe asked what actions members felt BCS should take to promote the use of IT in a way that contributes to a more sustainable society. Some of the answers express themes that had already come out, and added a few more:\\n\\n\\'Promote best practise, share real examples, signpost to resources that can help organisations:\\n\\n\\'Encourage recycling of old hardware and try to upgrade equipment rather than throw it away and buy new:\\n\\n\\'Keep accessible archives of true lifecycle costs of technologies to help counter proponents\\' myths and facilitate carbon auditing: \\'\\n\\n\\'Help empower BCS members with data to support arguments. Include a cost saving to incentivise corporates to change, whilst enjoying positive PR for working to combat climate change:\\n\\n\\'Highlight how emerging tech can help.\\'\\n\\nFacilitate a public discussion, challenge technology directions/ trends that are contrary to environmental objectives, and highlight lazy claims (for example, that \\'carbon offsetting\\' by planting trees doesn\\'t negate the carbon impact, it just defers it)\\'\\n\\n\\'Ensure it uses the tech itself as a showcase and example for others to follow. Link up with key areas of academia so that it can speak with one voice on the latest and proven ideas. Link up closely with government to understand political factors which might impact its technical focussed message - so that hopefully the government can start relying on BCS (and other professional bodies) to provide detailed technical advice to inform its initiatives.\\'\\n\\n\\'Avoid politicisation of the debate. Stick only to verifiable truths. Be a source of dispassionate, scientific data and information.\\'\\n\\n\\'Make information available. ( \"Did you know that you could...\") implement awards and prizes. Humans are motivated by competitions and prizes, not some 560-page specification. The rewards don\\'t have to be large.\\'\\n\\nHIGHLIGHT HOW EMERGING TECH CAN HELP.\\'\\n\\n\\'Open the door to innovators, new designers and emerging technologists (many of whom are young and female) and amplify their voice.\\'\\n\\nThis report was generated on 07/06/21. Overall 441 respondents took part in the survey during the period 11 May to 6 June 2021.\\n\\nSOME PRACTICAL BITS\\n\\nIn keeping with the theme of Insights -to do good as well as define it -some members came up with practical suggestions.\\n\\nFor example:\\n\\n\\'Manufacturers could join up in power supplies. I\\'ve got thousands of different ones from all the different brands.\\'\\n\\n\\'Lower power client devices such as Apple\\'s new M1 CPUs Cloud computing, centralising more power consumption so it can be measured, offset and made cleaner.\\'\\n\\n\\'Use performance engineering practices that make software run more efficiently. There are programming languages that have built in an optimising computer to achieve optimal efficiency on a variety of hardware architectures. Investing in teams to continually optimise the products and services.\\'\\n\\n\\'Re-use old computers as long as it is appropriate from a holistic perspective.\\'\\n\\n\\'Use softphones, to remove purchase of physical handsets and the costs to build, ship, operate, and ultimately dispose of them.\\'\\n\\n\\'Decentralisation of power generation. For example, all personal dwellings should have solar-generator roofs. Around 2% of the land use in England is buildings. Solar roofs would go a long way to reducing power demands.\\'\\n\\n\\'Night watchman application powering off PCs.\\'\\n\\nPRACTICAL THOUSANDS ON THE GOVERNMENT\\'S ROLE:\\n\\n\\'Encourage the right to repair on all devices.\\'\\n\\n\\'Keep well out of the way at the technical level: I doubt anyone in Westminster could define the difference between a bit and a byte, or between a kW and a kWh. What government can do is to provide incentives to be environmental, for example rewards for reducing power consumption and waste.\\'\\n\\nPromote the CEEDA - certified energy efficient data centre scheme -launch a UK equivalent of the EUCOC and mandate this for larger organisations.\\'\\n\\n\\'Deliver a digital identity trust framework so the online identity fraud can be removed.\\'\\n\\n\\'Mandate wider adoption of smart meters and energy management systems. Set an energy budget per person, per household and per off- fice and force people to stick to it.\\'\\n\\nPRACTICAL THOUSANDS ON THE BCS\\'S ROLE:\\n\\nProvide tools for arguments: What is the running cost of running IT and not just in £? For example, if everyone deleted 100 emails, then less storage = less power = less Co2.\\'\\n\\n\\'Stop issuing ITNOW in paper form. Stop issuing new membership cards and move to virtual membership card.\\'\\n\\nFUR COATS... GREENWASH WARNINGS\\n\\nA number of responders drew attention to the dangers of greenwashing. Here are two comments:\\n\\n\\'I am losing faith in the various \\'renewable\\' energy capture mechanisms. Tue, they are better than they were, but they still appear to be more fur coat than anything else. Regarding smart consumption management -that just seems to be used as a way to raise money for government, rather than actually doing good for all.\\'\\n\\n\\'It\\'s a fallacy that technology is green -it may be that they can be used to offset other technologies that have an environmental impact but the notion that battery cars are cleaner and greener than petrol cars is false. And the notion that everyone having a smart phone with its own unique charger is somehow green is false -tonnes on tonnes of waste is generated by the IT industry and I see very little or no evidence that the IT industry is going to clean up its act.\\'\\n\\nSHORT AND SHARP SURVEYS:\\n\\nIn addition to longer pieces of research BCS has been undertaking shorter polls, often via YouGov, on contemporary technology issues. Here are the results of some of the more recent ones.\\n\\nID SOCIAL MEDIA USERS?\\n\\nIn April 2021, BCS undertook a survey on the verification of user identities to help control social media abuse.\\n\\nThe survey found that most tech experts (64%) want platforms like Twitter and Facebook to ask for real ID, making people accountable for what they post. Around a quarter (26%) said users should remain unverified, and 10% were undecided.\\n\\nMore than half of tech experts polled (56%) said linking social media accounts to true identities is technically achievable. Only 26% indicated it is not achievable and 17% were neutral.\\n\\nHalf (50%) said social media companies themselves should have the main responsibility for reducing online abuse.\\n\\nJust one in five (19%) thought an independent regulator should have that role. 17% thought it was the responsibility of individual users, 5% stated it was the job of government to lead on the reduction of trolling and 4% felt it should be led by the police.\\n\\nBCS members added that verified identity details should not have to be part of users\\' public profiles. This would keep the anonymity needed for legitimate protest, minority groups or whistleblowing.\\n\\nA majority (76%) of tech professionals said they would also support optional verification of social media ID, if that was the solution eventually introduced in the Online Harms Bill.\\n\\n90% said it should be made simple for social media users to see and turn off all unverified accounts.\\n\\nGENDER\\n\\nIn November 2020, BCS found that many people were lacking basic digital skills during lockdown.\\n\\n2,072 people responded to the survey conducted for BCS by YouGov, with most having had no recent help to improve their digital skills, despite the pandemic moving personal and professional life online.\\n\\nSome 83% of UK adults said they had not received any support to improve their tech skills over the previous six months. Most offers of help with digital skills came from employers (57%), over a quarter (28%) from family and friends and 13% from organisations like government and training providers.\\n\\nAsked about specific software, nearly a third (31%) of people are not confident with basic data management using an Excel spreadsheet.\\n\\nThe research followed an issue with the NHS track and trace system where people testing positive for COVID-19 were not recorded once an Excel spreadsheet reached its maximum capacity.\\n\\nA large majority of people (89%) agreed that digital skills would be important to the UK\\'s long-term economic prosperity. Despite this, most of the adults surveyed (62%) said they were not concerned about their level of tech training affecting their career prospects.\\n\\nlll Network\\n\\n7:49 PM\\n\\n100%\\n\\n100%\\n\\n100%\\n\\nTOMATO Solanum lycopersicum\\n\\nAVG. 123 grams - 22 kcal\\n\\nNutrition Facts. Tomatoes, red, ripe raw - 100 grams\\n\\nCalories 18 Water 95 %\\n\\nProtein 0.9 g Carbs 3.9 g Sugar 2.6 g\\n\\nFiber 1.2 g Fat 0.2 g\\n\\nSaturated 0.03 g Monounsaturated 0.03 g\\n\\nPolyunsaturated 0.08 g Omega-3 0.9 g\\n\\nOmega-6 0.08 g\\n\\n31\\n\\n31\\n\\n95% FEEL IT IS IMPORTANT FOR THE UK TO RETAIN OWNERSHIP AND CONTROL OF SIGNIFICANT DIGITAL TECH COMPANIES WITHIN ITS BORDERS.\\n\\nETHICS REGULATION\\n\\nAlso in November 2020, BCS found that the IT industry should have \\'ethics regulator\\', to ensure ethical standards in areas like artificial intelligence.\\n\\nThe majority (59%) of UK adults believe the profession should be kept focused on solving society\\'s problems. In contrast, only 23% felt that \\'big tech\\' companies should have the task of enforcing the industry\\'s ethical standards, while 22% said politicians should have the job.\\n\\nThese results came after a summer of high-profile public sector projects where IT and its implementation by policy makers had been criticised, including the use of algorithms to estimate exam results and errors in the use of Excel to track COVID-19.\\n\\nHalf of respondents (50%) felt they could trust computer scientists to create artificial intelligence that is focused on improving the quality of their life.\\n\\nMost people (63%) did not think new computer science graduates were suitably qualified to write software that makes life decisions about them. And a majority (62%) said computer programmers should be qualified chartered professionals, meeting the same as chartered accountants.\\n\\nMore than 2,000 people responded to the survey conducted for BCS by YouGov.\\n\\nUP IN ARMS\\n\\nIn October 2020 BCS found that the majority of IT experts believed the government should step in over the sale of technology giant ARM. The poll was carried out following the announcement that ARM Holdings is to be sold to American chip maker Nvidia in a deal worth 40 billion dollars (£31.2 billion).\\n\\nOf the 1,771 BCS members contributing to the poll, only 11% agree that the sale of ARM to Nvidia will strengthen the UK\\'s position as a world leader in digital technologies.\\n\\nNearly all IT specialists questioned (95%) feel it is important for the UK to retain ownership and control of significant digital tech companies within its borders.\\n\\nJust over three-quarters of IT professionals (76%) agree with the comments made by industry analyst Geoff Blaber that the deal would be \\'detrimental\\' to ARM and its ecosystem.\\n\\nExactly 40% agree with Jensen Huang, founder and chief executive of Nvidia, that the combination of Nvidia and ARM would create a firm \\'fabulously positioned for the age of AI\\'.\\n\\nBCS.ORG\\n\\nBCS is a proud member of IFIP - the International Federation for Information Processing. It represents IT societies like BCS over 38 countries/regions and through its member societies plays a leading role in providing trustworthy, expert and an unbiased source of evidence-based expert knowledge on the global stage. We share a common goal to support professionalism within our sector and ensuring IT is good for society.\\n\\nIt\\'s IFIP\\'s jubilee year and to celebrate its 60 years, it is supporting its member societies with a programme of events and publications. We are delighted that our Insights conference today is part of the amazing array of events being celebrated under IFIP\\'s #ifip60 umbrella and we\\'d like to thank our colleagues within the IFIP community for including our conference today as part of the showcase of great events taking place around the world during the IFIP jubilee year.\\n\\nFind out more about IFIP and it\\'s programme of 60th anniversary activities\\n\\nifip.org/jubilee60/2r=tcwgevents\\n\\nFor further information please contact:\\n\\nBCS\\n\\nThe Chartered Institute for IT 3 Newbridge Square Swindon SN1 1BY T +44 (0)1793 417 417\\n\\nwww.bcs.org\\n\\n© 2021 Reserved. BCS, The Chartered Institute for IT\\n\\nAll rights reserved. No part of this material protected by this copyright may be reproduced or utilised in any form, or by any means, electronic or mechanical, including photocopying, recording, or by any information storage and retrieval system without prior authorization and credit to BCS, The Chartered Institute for IT.\\n\\nAlthough BCS, The Chartered Institute for IT has used reasonable endeavours in compiling the document it does not guarantee nor shall it be responsible for reliance upon the contents of the document and shall not be liable for any false, inaccurate or incomplete information. Any reliance placed upon the contents by the reader is at the reader\\'s sole risk and BCS, The Chartered Institute for IT shall not be liable for any consequences of such reliance.')]"
      ]
     },
     "execution_count": 6,
     "metadata": {},
     "output_type": "execute_result"
    }
   ],
   "source": [
    "# preview sample structure document\n",
    "document[0]"
   ]
  },
  {
   "cell_type": "code",
   "execution_count": 7,
   "metadata": {},
   "outputs": [],
   "source": [
    "# Split documents into chunks\n",
    "text_splitter = RecursiveCharacterTextSplitter.from_tiktoken_encoder(\n",
    "    chunk_size=500,\n",
    "    chunk_overlap=100\n",
    ")\n",
    "doc_splits = text_splitter.split_documents(document[0])"
   ]
  },
  {
   "cell_type": "code",
   "execution_count": 8,
   "metadata": {},
   "outputs": [
    {
     "data": {
      "text/plain": [
       "37"
      ]
     },
     "execution_count": 8,
     "metadata": {},
     "output_type": "execute_result"
    }
   ],
   "source": [
    "# Check length\n",
    "len(doc_splits)"
   ]
  },
  {
   "cell_type": "code",
   "execution_count": 9,
   "metadata": {},
   "outputs": [],
   "source": [
    "# Load embedding model\n",
    "EMBEDDING_MODEL_NAME=\"Snowflake/snowflake-arctic-embed-l-v2.0\"\n",
    "embedding = HuggingFaceEmbeddings(model_name=EMBEDDING_MODEL_NAME, show_progress=True)"
   ]
  },
  {
   "cell_type": "code",
   "execution_count": 10,
   "metadata": {},
   "outputs": [
    {
     "data": {
      "text/plain": [
       "HuggingFaceEmbeddings(model_name='Snowflake/snowflake-arctic-embed-l-v2.0', cache_folder=None, model_kwargs={}, encode_kwargs={}, multi_process=False, show_progress=True)"
      ]
     },
     "execution_count": 10,
     "metadata": {},
     "output_type": "execute_result"
    }
   ],
   "source": [
    "embedding"
   ]
  },
  {
   "cell_type": "code",
   "execution_count": 11,
   "metadata": {},
   "outputs": [
    {
     "name": "stderr",
     "output_type": "stream",
     "text": [
      "Batches: 100%|██████████| 2/2 [00:45<00:00, 22.94s/it]\n"
     ]
    }
   ],
   "source": [
    "# Setup Vectorstore\n",
    "\n",
    "## SKLearnVectorStore is used to store and retrieve document embeddings for similarity search\n",
    "vectorstore = SKLearnVectorStore.from_documents(\n",
    "    documents=doc_splits,\n",
    "    embedding=embedding\n",
    ")\n",
    "\n",
    "## Create a retriever to fetch top 5 similar documents\n",
    "retriever = vectorstore.as_retriever(k=5)"
   ]
  },
  {
   "cell_type": "code",
   "execution_count": 12,
   "metadata": {},
   "outputs": [
    {
     "name": "stdout",
     "output_type": "stream",
     "text": [
      "Case 0: success\n",
      "details: vectorstore\n",
      "\n",
      "Case 1: success\n",
      "details: vectorstore\n",
      "\n",
      "Case 2: success\n",
      "details: vectorstore\n",
      "\n",
      "Case 3: success\n",
      "details: websearch\n",
      "\n",
      "Case 4: success\n",
      "details: websearch\n",
      "\n",
      "Case 5: success\n",
      "details: websearch\n",
      "\n",
      "Case 6: success\n",
      "details: vectorstore\n",
      "\n",
      "Case 7: success\n",
      "details: websearch\n",
      "\n"
     ]
    }
   ],
   "source": [
    "# Prompt instructions for routing user questions\n",
    "router_instructions = \"\"\"\n",
    "    You are an expert at routing a user question to either a `vectorstore` or a `web search`.\n",
    "    \n",
    "    The vectorstore contains documents related to IT and technology, including but not limited to:\n",
    "    - Cybersecurity (e.g., threats, cloud security concerns, incident responses)\n",
    "    - Diversity and inclusion in IT (e.g., gender, age, ethnicity, disability representation)\n",
    "    - Ethical dilemmas in IT (e.g., professional ethics, data privacy, ethical trade-offs)\n",
    "    - Sustainable computing (e.g., green IT practices, ESG goals, government and IT roles)\n",
    "    - IT leadership trends (e.g., business continuity, cloud adoption, remote work challenges)\n",
    "    - Broader societal impacts of technology (e.g., digital skills gaps, AI regulation, social media accountability)\n",
    "    \n",
    "    Use the vectorstore for questions that align with the above topics and are likely to be covered in the BCS Insights 2021 report or similar IT-focused content.\n",
    "    \n",
    "    Use web-search for:\n",
    "    - Questions about current events or recent developments not covered in the vectorstore.\n",
    "    - Topics outside the scope of IT, cybersecurity, diversity, ethics, or sustainability as described above.\n",
    "    - Queries requiring real-time information, such as statistics or updates post-2021.\n",
    "    \n",
    "    Return JSON with a single key, `datasource`, which should be either 'websearch' or 'vectorstore', depending on the question.\n",
    "\"\"\"\n",
    "\n",
    "# Define test question\n",
    "test_questions = [\n",
    "    (\"What is the main goal of BCS as stated in the introduction?\", \"vectorstore\"),\n",
    "    (\"What percentage of IT specialists in the UK workforce were female in 2020?\", \"vectorstore\"),\n",
    "    (\"What are the biggest cyber threats listed in the report?\", \"vectorstore\"),\n",
    "    (\"What are the latest vulnerabilities disclosed in the past 24 hours?\", \"websearch\"),\n",
    "    (\"Compare CrowdStrike Falcon and Microsoft Defender pricing?\", \"websearch\"),\n",
    "    (\"What new zero-day exploits were reported this week?\", \"websearch\"),\n",
    "    (\"Evaluate the role of government in regulating the IT industry's ethical standards as suggested by the survey respondents.\", \"vectorstore\"),\n",
    "    (\"What are the current trends in ransomware attacks?\", \"websearch\")\n",
    "]\n",
    "\n",
    "for index, (question, expected_result) in enumerate(test_questions):\n",
    "    test_result = llm_json_mode.invoke(\n",
    "        [\n",
    "            SystemMessage(content=router_instructions),\n",
    "            HumanMessage(content=question)\n",
    "        ]\n",
    "    )\n",
    "    route = json.loads(test_result.content)['datasource']\n",
    "    print(f\"Case {index}: {'success' if route == expected_result else 'failed'}\\ndetails: {route}\")\n",
    "    print()"
   ]
  },
  {
   "cell_type": "code",
   "execution_count": 13,
   "metadata": {},
   "outputs": [
    {
     "name": "stderr",
     "output_type": "stream",
     "text": [
      "Batches: 100%|██████████| 1/1 [00:07<00:00,  7.98s/it]\n"
     ]
    }
   ],
   "source": [
    "# Instructions for the document grader\n",
    "doc_grader_instructions = \"\"\"\n",
    "    You are a grader assessing relevence of a retrieved document to a user question.\n",
    "    If the document contains keyword(s) or sementic meaning related to the question, grade it as relevant.\n",
    "\"\"\"\n",
    "\n",
    "# Grader prompt\n",
    "doc_grader_prompt = \"\"\"**Here is the retrieved document:** \\n\\n {document} \\n\\n **Here is the user question:** \\n\\n {question}.\\n\\n\n",
    "This carefully and objectively assess the document contains at least some information that is relevant to the question.\n",
    "Return JSON with single key, `binary_score`, that is 'yes' or 'no' score to indicate whether the document is contains at least some information that is relevant to the question.\"\"\"\n",
    "\n",
    "# Test the document grader\n",
    "question = \"What is the main goal of BCS as stated in the introduction?\"\n",
    "docs = retriever.invoke(question)\n",
    "doc_text = docs[1].page_content\n",
    "\n",
    "# Format the grader prompt with the retrieved document and the question\n",
    "doc_grader_prompt_formatted = doc_grader_prompt.format(\n",
    "    document=doc_text, question=question\n",
    ")"
   ]
  },
  {
   "cell_type": "code",
   "execution_count": 14,
   "metadata": {},
   "outputs": [
    {
     "data": {
      "text/markdown": [
       "**Here is the retrieved document:** \n",
       "\n",
       " 'Help empower BCS members with data to support arguments. Include a cost saving to incentivise corporates to change, whilst enjoying positive PR for working to combat climate change:\n",
       "\n",
       "'Highlight how emerging tech can help.'\n",
       "\n",
       "Facilitate a public discussion, challenge technology directions/ trends that are contrary to environmental objectives, and highlight lazy claims (for example, that 'carbon offsetting' by planting trees doesn't negate the carbon impact, it just defers it)'\n",
       "\n",
       "'Ensure it uses the tech itself as a showcase and example for others to follow. Link up with key areas of academia so that it can speak with one voice on the latest and proven ideas. Link up closely with government to understand political factors which might impact its technical focussed message - so that hopefully the government can start relying on BCS (and other professional bodies) to provide detailed technical advice to inform its initiatives.'\n",
       "\n",
       "'Avoid politicisation of the debate. Stick only to verifiable truths. Be a source of dispassionate, scientific data and information.'\n",
       "\n",
       "'Make information available. ( \"Did you know that you could...\") implement awards and prizes. Humans are motivated by competitions and prizes, not some 560-page specification. The rewards don't have to be large.'\n",
       "\n",
       "HIGHLIGHT HOW EMERGING TECH CAN HELP.'\n",
       "\n",
       "'Open the door to innovators, new designers and emerging technologists (many of whom are young and female) and amplify their voice.'\n",
       "\n",
       "This report was generated on 07/06/21. Overall 441 respondents took part in the survey during the period 11 May to 6 June 2021.\n",
       "\n",
       "SOME PRACTICAL BITS\n",
       "\n",
       "In keeping with the theme of Insights -to do good as well as define it -some members came up with practical suggestions.\n",
       "\n",
       "For example:\n",
       "\n",
       "'Manufacturers could join up in power supplies. I've got thousands of different ones from all the different brands.'\n",
       "\n",
       "'Lower power client devices such as Apple's new M1 CPUs Cloud computing, centralising more power consumption so it can be measured, offset and made cleaner.'\n",
       "\n",
       "'Use performance engineering practices that make software run more efficiently. There are programming languages that have built in an optimising computer to achieve optimal efficiency on a variety of hardware architectures. Investing in teams to continually optimise the products and services.' \n",
       "\n",
       " **Here is the user question:** \n",
       "\n",
       " What is the main goal of BCS as stated in the introduction?.\n",
       "\n",
       "\n",
       "This carefully and objectively assess the document contains at least some information that is relevant to the question.\n",
       "Return JSON with single key, `binary_score`, that is 'yes' or 'no' score to indicate whether the document is contains at least some information that is relevant to the question."
      ],
      "text/plain": [
       "<IPython.core.display.Markdown object>"
      ]
     },
     "metadata": {},
     "output_type": "display_data"
    }
   ],
   "source": [
    "# Overview result\n",
    "display_md(doc_grader_prompt_formatted)"
   ]
  },
  {
   "cell_type": "code",
   "execution_count": 15,
   "metadata": {},
   "outputs": [
    {
     "data": {
      "text/plain": [
       "{'binary_score': 'yes'}"
      ]
     },
     "execution_count": 15,
     "metadata": {},
     "output_type": "execute_result"
    }
   ],
   "source": [
    "# Get the grading result\n",
    "result = llm_json_mode.invoke(\n",
    "    [\n",
    "        SystemMessage(content=doc_grader_instructions),\n",
    "        HumanMessage(content=doc_grader_prompt_formatted)\n",
    "    ]\n",
    ")\n",
    "\n",
    "# Parse and display the result\n",
    "json.loads(result.content)"
   ]
  },
  {
   "cell_type": "code",
   "execution_count": 16,
   "metadata": {},
   "outputs": [
    {
     "name": "stderr",
     "output_type": "stream",
     "text": [
      "Batches: 100%|██████████| 1/1 [00:00<00:00,  1.46it/s]\n"
     ]
    }
   ],
   "source": [
    "# Prompt for the retrieval-augmented generation (RAG) model\n",
    "rag_prompt = \"\"\"You are an assistant for question-answering tasks.\n",
    "\n",
    "Here is the context to use to answer the question:\n",
    "{context}\n",
    "\\nThink carefully about the context.\n",
    "\n",
    "Now, review the user question:\n",
    "{question}\n",
    "\n",
    "Provide an answer to this question using only the above context.\n",
    "Use three sentences maximum and keep the answer concise.\n",
    "\n",
    "Answer:\n",
    "\"\"\"\n",
    "\n",
    "# Test the RAG model with a question\n",
    "docs = retriever.invoke(question)\n",
    "docs_txt = format_docs(docs)\n",
    "\n",
    "# Format the RAG prompt with the retrieved documents and the question\n",
    "rag_prompt_formatted = rag_prompt.format(\n",
    "    context=docs_txt,\n",
    "    question=question\n",
    ")\n",
    "\n",
    "# Generate the answer using the RAG model\n",
    "generation = llm.invoke([HumanMessage(content=rag_prompt_formatted)])"
   ]
  },
  {
   "cell_type": "code",
   "execution_count": 17,
   "metadata": {},
   "outputs": [
    {
     "data": {
      "text/markdown": [
       "The main goal of BCS is not explicitly stated in the introduction, but it can be inferred that BCS aims to promote IT professionalism and ethics. The introduction highlights the importance of BCS training in making members aware of illegal activities and promoting ethical behavior. The report appears to focus on how BCS can support its members in promoting sustainable computing and IT practices."
      ],
      "text/plain": [
       "<IPython.core.display.Markdown object>"
      ]
     },
     "metadata": {},
     "output_type": "display_data"
    }
   ],
   "source": [
    "# Display the generated answer as Markdown\n",
    "display_md(generation.content)"
   ]
  },
  {
   "cell_type": "code",
   "execution_count": 18,
   "metadata": {},
   "outputs": [],
   "source": [
    "# Hallucination grader instructions\n",
    "hallucination_grader_instructions = \"\"\"You are a teacher grading a quiz.\n",
    "You will be given `FACTS` and `STUDENT ANSWER`.\\n\\n\n",
    "\n",
    "Here is the grade criteria:\\n\n",
    "1. Ensure the `STUDENT ANSWER` is grounded in the `FACTS`\n",
    "2. Ensure the `STUDENT ANSWER` does not contain \"hallucinated\" information outside the scope of the `FACTS`.\\n\\n\n",
    "\n",
    "Score:\n",
    "\"\"\"\n",
    "\n",
    "# Grader prompt for hallucination detection\n",
    "hallucination_grader_prompt = \"\"\"FACTS: \\n\\n {documents} \\n\\n STUDENT ANSWER: \\n\\n {generation}. \\n\\n\n",
    "Return JSON with two keys: `binary_score` which is 'yes' or 'no' to indicate whether the `STUDENT ANSWER` is grounded in the `FACTS`, and `explanation` which contains an explanation of the score.\"\"\"\n",
    "\n",
    "# Test the hallucination grader using the documents and generation from above\n",
    "hallucination_grader_prompt_formatted = hallucination_grader_prompt.format(\n",
    "    documents=docs_txt,\n",
    "    generation=generation.content\n",
    ")\n",
    "\n",
    "result = llm_json_mode.invoke(\n",
    "    [SystemMessage(content=hallucination_grader_instructions)]\n",
    "    + [HumanMessage(content=hallucination_grader_prompt_formatted)]\n",
    ")"
   ]
  },
  {
   "cell_type": "code",
   "execution_count": 19,
   "metadata": {},
   "outputs": [
    {
     "name": "stdout",
     "output_type": "stream",
     "text": [
      "{\n",
      "    \"binary_score\": \"yes\",\n",
      "    \"explanation\": \"The student answer is grounded in the facts as it accurately infers the main goal of BCS and highlights the importance of BCS training in promoting ethical behavior and sustainable computing practices, all of which are supported by the provided facts.\"\n",
      "}\n"
     ]
    }
   ],
   "source": [
    "# Parse and display the result\n",
    "print(json.dumps(json.loads(result.content), indent=4))"
   ]
  },
  {
   "cell_type": "code",
   "execution_count": 20,
   "metadata": {},
   "outputs": [],
   "source": [
    "# Answer grader instructions\n",
    "answer_grader_instructions = \"\"\"You are a teacher grading a quiz.\n",
    "You will be given `QUESTION` and a `STUDENT ANSWER`.\\n\\n\n",
    "\n",
    "Here is the grade criteria to follow:\n",
    "1. The `STUDENT ANSWER` helps to answer the `QUESTION`\n",
    "\n",
    "Score:\\n\n",
    "A score of `yes` means that the student's answer meets all of the criteria. This is the `highest (best)` score.\n",
    "The student can receive a score of yes if the answer contains extra information that is not explicitly asked for in the question.\n",
    "A score of `no` means that the student's answer does not meet all of the criteria. This is the `lowest` possible score you can give.\n",
    "Explain your reasoning in a step by step manner to ensure your reasoning and conclusion are correct.\n",
    "Avoid simply stating the correct answer at the outset.\"\"\"\n",
    "\n",
    "# Grader prompt for answer grading\n",
    "answer_grader_prompt = \"\"\"QUESTION: \\n\\n {question} \\n\\nSTUDENT ANSWER:\\n\\n{generation} \\n\\n\n",
    "Return JSON with two keys: `binary_score` which is 'yes' or 'no' to indicate whether the `STUDENT ANSWER` meets the criteria, and `explanation` which contains an explanation of the score.\"\"\"\n",
    "\n",
    "# Test using the question and generation from above\n",
    "answer = generation.content\n",
    "answer_grader_prompt_formatted = answer_grader_prompt.format(\n",
    "    question=question,\n",
    "    generation=answer\n",
    ")\n",
    "\n",
    "result = llm_json_mode.invoke(\n",
    "    [SystemMessage(content=answer_grader_instructions)]\n",
    "    + [HumanMessage(content=answer_grader_prompt_formatted)]\n",
    ")"
   ]
  },
  {
   "cell_type": "code",
   "execution_count": 21,
   "metadata": {},
   "outputs": [
    {
     "name": "stdout",
     "output_type": "stream",
     "text": [
      "{\n",
      "    \"binary_score\": \"yes\",\n",
      "    \"explanation\": \"The student answer attempts to address the question by inferring the main goal of BCS from the introduction, even though it is not explicitly stated. The student provides relevant information about promoting IT professionalism and ethics, and highlights the importance of BCS training in promoting ethical behavior. This shows that the student's answer helps to answer the question, meeting the criteria.\"\n",
      "}\n"
     ]
    }
   ],
   "source": [
    "# Parse and display the result\n",
    "print(json.dumps(json.loads(result.content), indent=4))"
   ]
  },
  {
   "cell_type": "code",
   "execution_count": 74,
   "metadata": {},
   "outputs": [],
   "source": [
    "# Initialize the web search tool with top 3 search results\n",
    "web_search_tool = TavilySearchResults(k=3)"
   ]
  },
  {
   "cell_type": "code",
   "execution_count": 164,
   "metadata": {},
   "outputs": [],
   "source": [
    "# Create Graph State\n",
    "class GraphState(TypedDict):\n",
    "    \"\"\"\n",
    "    Graph state is a dictionary that contains information we want to propagate to, and modify in,\n",
    "    each node\n",
    "    \"\"\"\n",
    "    \n",
    "    question: str\n",
    "    generation: str\n",
    "    web_search: str\n",
    "    max_retries: int\n",
    "    answers: int\n",
    "    loop_step: Annotated[int, operator.add]\n",
    "    documents: List[str]\n",
    "\n",
    "def retrieve(state):\n",
    "    \"\"\"\n",
    "    Retrieve documents from vectorstore\n",
    "    \n",
    "    Args:\n",
    "        state (dict): The current graph state\n",
    "\n",
    "    Returns:\n",
    "        state (dict): New key added to state, documents, that contains retrieved documents\n",
    "    \"\"\"\n",
    "    \n",
    "    print(\"---RETRIEVE---\")\n",
    "    question = state[\"question\"]\n",
    "\n",
    "    documents = retriever.invoke(question)\n",
    "    return {\"documents\": documents}\n",
    "\n",
    "def generate(state):\n",
    "    \"\"\"\n",
    "    Generate answer using RAG on retrieved documents\n",
    "    \n",
    "    Args:\n",
    "        state (dict): The current graph state\n",
    "    \n",
    "    Returns:\n",
    "        state (dict): New key added to state, generation, that contains LLM generation\n",
    "    \"\"\"\n",
    "    \n",
    "    print(\"---GENERATE---\")\n",
    "    question = state[\"question\"]\n",
    "    documents = state[\"documents\"]\n",
    "    loop_step = state.get(\"loop_step\", 0)\n",
    "    \n",
    "    docs_txt = format_docs(documents)\n",
    "    rag_prompt_formatted = rag_prompt.format(\n",
    "        context=docs_txt,\n",
    "        question=question\n",
    "    )\n",
    "    generation = llm.invoke([HumanMessage(content=rag_prompt_formatted)])\n",
    "    \n",
    "    return {\n",
    "        \"generation\": generation,\n",
    "        loop_step: loop_step + 1\n",
    "    }\n",
    "\n",
    "def grade_documents(state):\n",
    "    \"\"\"\n",
    "    Determine whether the retrieved documents are relevant to the question\n",
    "    If any document is not relevent, we will set a flag to run web search\n",
    "    \n",
    "    Args:\n",
    "        state (dict): The current graph state\n",
    "        \n",
    "    Returns:\n",
    "        state (dict): Filtered out irrelevant documents and updated web_serarch state\n",
    "    \"\"\"\n",
    "    \n",
    "    print(\"---CHECK DOCUMENT RELEVANCE TO QUESTION---\")\n",
    "    question = state[\"question\"]\n",
    "    documents = state[\"documents\"]\n",
    "    \n",
    "    # score each doc\n",
    "    filtered_docs = []\n",
    "    \n",
    "    web_search = \"No\"\n",
    "    for d in documents:\n",
    "        doc_grader_prompt_formatted = doc_grader_prompt.format(\n",
    "            document = d.page_content,\n",
    "            question=question\n",
    "        )\n",
    "        \n",
    "        result = llm_json_mode.invoke(\n",
    "            [SystemMessage(content=doc_grader_instructions)]\n",
    "            + [HumanMessage(content=doc_grader_prompt_formatted)]\n",
    "        )\n",
    "        \n",
    "        grade = json.loads(result.content)[\"binary_score\"]\n",
    "        \n",
    "        # document relevant\n",
    "        if grade.lower() == \"yes\":\n",
    "            print(\"---GRADE: DOCUMENT RELEVANT---\")\n",
    "            filtered_docs.append(d)\n",
    "\n",
    "        # TODO: Create decision with \"any\" condition, that only searching via website IF there is not \"relevant document\" / setup fallback handler such as \"Im Sorry, I dont know.\"\n",
    "        # document not relevant, set web searching.\n",
    "        # else:\n",
    "        #     print(\"---GRADE: DOCUMENT NOT RELEVANT---\")\n",
    "        #     web_search = \"Yes\"\n",
    "        #     continue\n",
    "    \n",
    "    return {\n",
    "        \"documents\": filtered_docs,\n",
    "        \"web_search\": web_search\n",
    "    }\n",
    "\n",
    "def web_search(state):\n",
    "    \"\"\"\n",
    "    Web search based on the question\n",
    "    \n",
    "    Args:\n",
    "        state (dict): The current graph state\n",
    "        \n",
    "    Returns:\n",
    "        state (dict): Appended web results to documents\n",
    "    \"\"\"\n",
    "    \n",
    "    print(\"---WEB SEARCH---\")\n",
    "    question = state[\"question\"]\n",
    "    documents = state.get(\"documents\", [])\n",
    "    \n",
    "    # web search\n",
    "    docs = web_search_tool.invoke({\"query\": question})\n",
    "    web_results = \"\\n\".join([d[\"content\"] for d in docs])\n",
    "    web_results = Document(page_content=web_results)\n",
    "    documents.append(web_results)\n",
    "    \n",
    "    return {\"documents\": documents}\n",
    "\n",
    "def route_question(state):\n",
    "    \"\"\"\n",
    "    Route question to web search or RAG\n",
    "    \n",
    "    Args:\n",
    "        state (dict): The current graph state\n",
    "        \n",
    "    Returns:\n",
    "        str: Next node to call\n",
    "    \"\"\"\n",
    "    \n",
    "    print(\"---ROUTE QUESTION---\")\n",
    "    route_question = llm_json_mode.invoke(\n",
    "        [SystemMessage(content=router_instructions)]\n",
    "        + [HumanMessage(content=state[\"question\"])]\n",
    "    )\n",
    "    \n",
    "    source = json.loads(route_question.content)[\"datasource\"]\n",
    "    if source == \"websearch\":\n",
    "        print(\"---ROUTE QUESTION TO WEB SEARCH---\")\n",
    "        return \"websearch\"\n",
    "    else:\n",
    "        print(\"---ROUTE QUESTION TO RAG---\")\n",
    "        return \"vectorstore\"\n",
    "    \n",
    "def decide_to_generate(state):\n",
    "    \"\"\"\n",
    "    Determines whether to generate an answer, or add web search\n",
    "    \n",
    "    Args:\n",
    "        state (dict): The current graph state\n",
    "    Returns:\n",
    "        str: Binary decision for next node to call\n",
    "    \"\"\"\n",
    "    \n",
    "    print(\"---ASSESS GRADED DOCUMENTS---\")\n",
    "    web_search = state[\"web_search\"]\n",
    "    \n",
    "    if web_search == \"Yes\":\n",
    "        # all documents have been filtered check_relevance\n",
    "        # we will re-generate a new query\n",
    "        print(\n",
    "            \"---DECISION: NOT ALL DOCUMENTS ARE RELEVANT TO QUESTION, INCLUDE WEB SEARCH---\"\n",
    "        )\n",
    "        \n",
    "        return \"web_search\"\n",
    "    else:\n",
    "        # we have relevant documents, so generate answer\n",
    "        print(\"---DECISION: GENERATE---\")\n",
    "        return \"generate\"\n",
    "    \n",
    "def grade_generation_v_documents_and_question(state):\n",
    "    \"\"\"\n",
    "    Determines whether the generation is grounded in the document and answers question\n",
    "    \n",
    "    Args:\n",
    "        state (dict): The current graph state\n",
    "        \n",
    "    Returns:\n",
    "        str: Decision for next node to call\n",
    "    \"\"\"\n",
    "    \n",
    "    print(\"---CHECK HALUCINATIONS\")\n",
    "    question = state[\"question\"]\n",
    "    documents = state[\"documents\"]\n",
    "    generation = state[\"generation\"]\n",
    "    max_retries = state.get(\"max_retries\", 3) # default to 3 if not provided\n",
    "    \n",
    "    hallucination_grader_prompt_formatted = hallucination_grader_prompt.format(\n",
    "        documents = format_docs(documents),\n",
    "        generation = generation.content\n",
    "    )\n",
    "    result = llm_json_mode.invoke(\n",
    "        [SystemMessage(content=hallucination_grader_instructions)]\n",
    "        + [HumanMessage(content=hallucination_grader_prompt_formatted)]\n",
    "    )\n",
    "    grade = json.loads(result.content)[\"binary_score\"]\n",
    "    \n",
    "    # Check hallucination\n",
    "    if grade == \"yes\":\n",
    "        print(\"---DECISION: GENERATION IS GROUNDED IN DOCUMENTS---\")\n",
    "        # check question-answering\n",
    "        print(\"---GRADE GENERATION vs QUESTION---\")\n",
    "        \n",
    "        # test using question and generation from above\n",
    "        answer_grader_prompt_formatted = answer_grader_prompt.format(\n",
    "            question=question,\n",
    "            generation=generation.content\n",
    "        )\n",
    "        result = llm_json_mode.invoke(\n",
    "            [SystemMessage(content=answer_grader_instructions)]\n",
    "            + [HumanMessage(content=answer_grader_prompt_formatted)]\n",
    "        )\n",
    "        \n",
    "        grade = json.loads(result.content)[\"binary_score\"]\n",
    "        \n",
    "        if grade == \"yes\":\n",
    "            print(\"---DECISION: GENERATION ANSWERS QUESTION---\")\n",
    "            return \"useful\"\n",
    "        elif state[\"loop_step\"] <= max_retries:\n",
    "            print(\"---DECISION: GENERATION DOES NOT ADDRESS QUESTION---\")\n",
    "            return \"not useful\"\n",
    "        else:\n",
    "            print(\"---DECISION: MAX RETRIES REACHED---\")\n",
    "            return \"max retries\"\n",
    "    elif state[\"loop_step\"] <= max_retries:\n",
    "        print(\"---DECISION: GENERATION IS NOT GROUNDED IN DOCUMENTS, RE-TRY---\")\n",
    "        return \"not supported\"\n",
    "    else:\n",
    "        print(\"---DECISION: MAX RETRIES REACHED---\")\n",
    "        return \"max retries\""
   ]
  },
  {
   "cell_type": "markdown",
   "metadata": {},
   "source": [
    "### Control Flow"
   ]
  },
  {
   "cell_type": "code",
   "execution_count": 165,
   "metadata": {},
   "outputs": [
    {
     "data": {
      "text/plain": [
       "<langgraph.graph.state.StateGraph at 0x3e2cb1590>"
      ]
     },
     "execution_count": 165,
     "metadata": {},
     "output_type": "execute_result"
    }
   ],
   "source": [
    "# Initialize the workflow with the GraphState\n",
    "workflow = StateGraph(GraphState)\n",
    "\n",
    "# define the nodes\n",
    "workflow.add_node(\"websearch\", web_search)\n",
    "workflow.add_node(\"retrieve\", retrieve)\n",
    "workflow.add_node(\"grade_documents\", grade_documents)\n",
    "workflow.add_node(\"generate\", generate)"
   ]
  },
  {
   "cell_type": "code",
   "execution_count": 166,
   "metadata": {},
   "outputs": [
    {
     "data": {
      "text/plain": [
       "<langgraph.graph.state.StateGraph at 0x3e2cb1590>"
      ]
     },
     "execution_count": 166,
     "metadata": {},
     "output_type": "execute_result"
    }
   ],
   "source": [
    "# build graph\n",
    "workflow.set_conditional_entry_point(\n",
    "    route_question, # route the question to web search or vectorstore\n",
    "    {\n",
    "        \"websearch\": \"websearch\", # if question needs web search\n",
    "        \"vectorstore\": \"retrieve\", # if question can be answered from vectorstore\n",
    "    },\n",
    ")\n",
    "\n",
    "# add edges between nodes\n",
    "workflow.add_edge(\"websearch\", \"generate\") # after web search, generate answer\n",
    "workflow.add_edge(\"retrieve\", \"grade_documents\") # after retrieval, grade docs\n",
    "\n",
    "# conditional edge after grading docs\n",
    "workflow.add_conditional_edges(\n",
    "    \"grade_documents\",\n",
    "    decide_to_generate,\n",
    "    {\n",
    "        \"websearch\": \"websearch\", # if docs not relevant, do web search\n",
    "        \"generate\": \"generate\", # if docs relevant, generate answer\n",
    "    },\n",
    ")\n",
    "\n",
    "# conditional edge after generating answer\n",
    "workflow.add_conditional_edges(\n",
    "    \"generate\",\n",
    "    grade_generation_v_documents_and_question,\n",
    "    {\n",
    "        \"not supported\": \"generate\", # regenerate if not supported\n",
    "        \"useful\": END, # end if answer useful\n",
    "        \"not useful\": \"websearch\", # web search if not useful\n",
    "        \"max retries\": END, # end if max retries reached\n",
    "    },\n",
    ")"
   ]
  },
  {
   "cell_type": "code",
   "execution_count": 167,
   "metadata": {},
   "outputs": [
    {
     "data": {
      "image/png": "[encoded data removed]",
      "text/plain": [
       "<IPython.core.display.Image object>"
      ]
     },
     "metadata": {},
     "output_type": "display_data"
    }
   ],
   "source": [
    "# Compile the workflow graph\n",
    "graph = workflow.compile()\n",
    "\n",
    "# Display the compiled graph as an image\n",
    "display(Image(graph.get_graph().draw_mermaid_png()))"
   ]
  },
  {
   "cell_type": "code",
   "execution_count": 86,
   "metadata": {},
   "outputs": [],
   "source": [
    "# Define inputs for the workflow\n",
    "inputs = {\n",
    "    \"question\": \"Critically assess the suggestions made by IT professionals for promoting sustainable computing practices.\", \n",
    "    \"max_retries\": 3\n",
    "}"
   ]
  },
  {
   "cell_type": "code",
   "execution_count": 36,
   "metadata": {},
   "outputs": [
    {
     "name": "stdout",
     "output_type": "stream",
     "text": [
      "---ROUTE QUESTION---\n",
      "---ROUTE QUESTION TO RAG---\n",
      "---RETRIEVE---\n"
     ]
    },
    {
     "name": "stderr",
     "output_type": "stream",
     "text": [
      "Batches: 100%|██████████| 1/1 [00:09<00:00,  9.71s/it]\n"
     ]
    },
    {
     "name": "stdout",
     "output_type": "stream",
     "text": [
      "---CHECK DOCUMENT RELEVANCE TO QUESTION---\n",
      "---GRADE: DOCUMENT RELEVANT---\n",
      "---GRADE: DOCUMENT RELEVANT---\n",
      "---GRADE: DOCUMENT RELEVANT---\n",
      "---GRADE: DOCUMENT RELEVANT---\n",
      "---ASSESS GRADED DOCUMENTS---\n",
      "---DECISION: GENERATE---\n",
      "---GENERATE---\n",
      "---CHECK HALUCINATIONS\n",
      "---DECISION: GENERATION IS GROUNDED IN DOCUMENTS---\n",
      "---GRADE GENERATION vs QUESTION---\n",
      "---DECISION: GENERATION ANSWERS QUESTION---\n"
     ]
    }
   ],
   "source": [
    "# Generate answer result\n",
    "result = graph.invoke(input=inputs)"
   ]
  },
  {
   "cell_type": "code",
   "execution_count": 37,
   "metadata": {},
   "outputs": [
    {
     "data": {
      "text/plain": [
       "{'question': 'Critically assess the suggestions made by IT professionals for promoting sustainable computing practices.',\n",
       " 'generation': AIMessage(content='IT professionals suggested various ways to promote sustainable computing practices, including subsidising and incentivising eco-friendly behaviour, improving connectivity, and promoting the use of flow battery technology to balance the grid and make better use of renewables. Some also recommended taxing tech giants, regulating them to prevent the spread of fake news, and recognising the BCS as an authoritative voice on sustainable IT practices. Additionally, professionals suggested that the government should outlaw digital currencies, promote video conferencing, and apply a clear disincentive to drive, making it more expensive to travel and easier to access virtual meetings.', additional_kwargs={}, response_metadata={'token_usage': {'completion_tokens': 116, 'prompt_tokens': 1872, 'total_tokens': 1988, 'completion_time': 0.421818182, 'prompt_time': 0.135349455, 'queue_time': 0.24295270199999996, 'total_time': 0.557167637}, 'model_name': 'llama-3.3-70b-versatile', 'system_fingerprint': 'fp_8dd9fca28c', 'finish_reason': 'stop', 'logprobs': None}, id='run-90e924ef-952f-431e-804a-cc669875317c-0', usage_metadata={'input_tokens': 1872, 'output_tokens': 116, 'total_tokens': 1988}),\n",
       " 'web_search': 'No',\n",
       " 'max_retries': 3,\n",
       " 'loop_step': 0,\n",
       " 'documents': [Document(metadata={'id': 'a79a9eee-7f35-4530-8d38-c432bf512aa1', 'source': 'output.md'}, page_content=\"KEY FINDINGS\\n\\n· 40% of participants indicated that IT is used to meet their organisation's ESG goals. 21% suggested that IT isn't used for this, and the rest were either neutral or their organisation did not have an ESG policy.\\n\\n· 59% of respondents feel empowered as an IT professional to speak up on greener and more ethical alternatives in their organisation's tech strategy.\\n\\n· Nearly half of those questioned (45%) think that the government should be the main driver of a roadmap for IT and digital technologies that helps to achieve a greener, more sustainable society. The second choice, relevant professional bodies, scored 18%.\\n\\nAnd on a more specialised note: 'The data and analytics derived through satellite imagery, aerial, and drone platforms will enable accurate reporting and accountability for ESG.'\\n\\nMeasuring and monitoring came up repeatedly, here is a selection of related comments:\\n\\n'For us at the BBC, being able to reduce our own datacentre footprint has been great for our energy consumption and green credentials. We tend to utilise AWS which whilst isn't perfect, enables us to offset some of that effort. Virtual meeting systems have been great in reducing travel between sites (pre-covid) and essential during covid lockdown.'\\n\\n'Myriad of measuring systems that can help a genuine assessment: Vehicle load management and\\n\\nroute planning; haulage sharing; drone deliveries to remote areas.' Building management systems to optimise heating, lighting and ventilation.'\\n\\nSmart allocation of water/ herbicides/pesticides to crops, to reduce the amount needed.'\\n\\nSome people had an emotional and psychological benefit mindset too. For example this suggestion, that we need 'holographic displays so you can get a real sense of being with people without having to travel.'\\n\\nA final idea that came up several times is one making some headway, especially amongst IT folks: 'Principle: repairable IT! Technology should be repairable and upgradeable as opposed being ditched for a new model.'\\n\\nPROMOTING TECHNOLOGIES TO COMBAT THE CLIMATE CRISIS\\n\\nWe asked members to give views on how best government can help promote IT and digital technologies to effectively combat the climate crisis. Here are a sample of suggestions:\\n\\n'Subsidising and incentivising and de incentivising for contrary behaviour.'\"),\n",
       "  Document(metadata={'id': 'd90f1775-d70d-49aa-8bdc-0db01c55e21a', 'source': 'output.md'}, page_content=\"'Consult with BCS GreenIT SG for suggestions.'\\n\\nPERSONAL EMPOWERMENT\\n\\nAs IT professionalism is a key plank of BCS strategy we also wanted to get an idea of whether professionals feel empowered to speak up on issues, and also to proffer ethical alternatives if an organisation may be taking a less than fully beneficial turn.\\n\\nA heartfelt 59% said they felt so empowered, only 24% saying no. In answer to the question what would help you feel more able to do so? this is a selection of comments:\\n\\nMore information. There's very little out there on how to get started, the steps to go through. What to look for and tools.'\\n\\nA CIO who actually knows about 'Rather than one who has no technical knowledge and just uses buzzwords/phrases.'\\n\\n'I can speak up about the need but do not have the knowledge about which solutions are best.'\\n\\nBCS'S ROLE\\n\\nWe asked what actions members felt BCS should take to promote the use of IT in a way that contributes to a more sustainable society. Some of the answers express themes that had already come out, and added a few more:\\n\\n'Promote best practise, share real examples, signpost to resources that can help organisations:\\n\\n'Encourage recycling of old hardware and try to upgrade equipment rather than throw it away and buy new:\\n\\n'Keep accessible archives of true lifecycle costs of technologies to help counter proponents' myths and facilitate carbon auditing: '\\n\\n'Help empower BCS members with data to support arguments. Include a cost saving to incentivise corporates to change, whilst enjoying positive PR for working to combat climate change:\\n\\n'Highlight how emerging tech can help.'\\n\\nFacilitate a public discussion, challenge technology directions/ trends that are contrary to environmental objectives, and highlight lazy claims (for example, that 'carbon offsetting' by planting trees doesn't negate the carbon impact, it just defers it)'\"),\n",
       "  Document(metadata={'id': '0cb43e63-4219-4304-b16a-dcfe2f4f778b', 'source': 'output.md'}, page_content=\"I have had to refuse to transfer of sensitive data to an external organisation since it was illegal to do so. However, were it not for my BCS training I would not have been aware that it was illegal in the first place. The module 'professional issues is spot on.'\\n\\nEthical trade-offs are an interesting idea: 'Our products were extensively used in the arms industry. We would have preferred if this were not so. We resolved this problem for ourselves by charging less (or nothing at all) to socially benign organisations.'\\n\\nAnd the link between BCS and professionalism is even more explicit in our two closing comments:\\n\\nLet's just say that I had to remind my organisation/ peers that as a Chartered IT Professional I was bound by the BCS Code of Conduct.'\\n\\n'I work as a technical conceptual architect in a sales environment and see a lot of great and poor behaviour. When I see FBCS in the email signature I know they will try to do a good job and uphold standard and industry best practice.'\\n\\nThere are many more comments presented in the full report, which also covers comments on management issues and some international considerations. Members can view the BCS Ethical Dilemmas 2021 minireport on myBCS.\\n\\nTAKING THE TEMPERATURE: SUSTAINABLE COMPUTING\\n\\nETHICS REGULATION\\n\\nSpecifically, this question asked members to give their views on technologies they had seen that benefit the environment and should be used more widely.\\n\\nSuggestions ranged from the prosaic to the specialised, for example, the first category: 'The switch on a power socket. The idea of services being available 24/7 is in many cases a bit daft given that users tend to be asleep 7-10 hours of each day and that a lot of businesses are closed for longer. Just consider the domestic modem, powered 24/7 in most cases when its users may only be conscious in the property for four or 5 hours a day. We would never senselessly leave lights on in the way we leave technology on.'\\n\\nKEY FINDINGS\\n\\n· 40% of participants indicated that IT is used to meet their organisation's ESG goals. 21% suggested that IT isn't used for this, and the rest were either neutral or their organisation did not have an ESG policy.\"),\n",
       "  Document(metadata={'id': '09257dc6-ffb8-4c6c-955d-e13d81a9812c', 'source': 'output.md'}, page_content=\"PROMOTING TECHNOLOGIES TO COMBAT THE CLIMATE CRISIS\\n\\nWe asked members to give views on how best government can help promote IT and digital technologies to effectively combat the climate crisis. Here are a sample of suggestions:\\n\\n'Subsidising and incentivising and de incentivising for contrary behaviour.'\\n\\n'Improve connectivity e.g. 5G and better broadband infrastructure particularly for homes as we all work remotely.'\\n\\n'Firstly, outlaw digital currencies. The massive amount of energy going into that is shocking and mostly hidden away. On the promotion-side, if they helped each household achieve a minimum bandwidth that would certainly help with future online teaching and working arrangements. Could they also stipulate a minimum number of hours working at home using IT to help reduce road/train air miles?'\\n\\n'Promoting the use of flow battery technology to balance the grid and make better use of renewables; reducing our dependence on external power generation.'\\n\\n'Tax tech giants and ensure that they are regulated so that fake news is not spread about climate science and tech consumerism!'\\n\\n'Sponsor / support technical development and information exchange.'\\n\\n'The government is travelling in the right direction but appears to lack teeth when it comes to enforcement. The first step is monitor what is going on. There are several software options to use to this end. However apart from listed companies and companies trading over a quoted threshold, the vast majority of UK companies are not legally obliged to report their emissions, hence global remedies are difficult to determine.'\\n\\nBy taxing alternatives like driving so that there is a clear disincentive to drive. By communicating the IT and travel hierarchy clearly - it should be more expensive to travel and easier to access video conferencing. The government could apply this on in their own frontline services (for example, job centres).\\n\\n'Recognising (stating) the BCS as an authoritative voice on the use of IT in relation to creating a sustainable, liveable climate.'\\n\\n'Consult with BCS GreenIT SG for suggestions.'\\n\\nPERSONAL EMPOWERMENT\\n\\nAs IT professionalism is a key plank of BCS strategy we also wanted to get an idea of whether professionals feel empowered to speak up on issues, and also to proffer ethical alternatives if an organisation may be taking a less than fully beneficial turn.\")]}"
      ]
     },
     "execution_count": 37,
     "metadata": {},
     "output_type": "execute_result"
    }
   ],
   "source": [
    "result"
   ]
  },
  {
   "cell_type": "code",
   "execution_count": null,
   "metadata": {},
   "outputs": [
    {
     "name": "stdout",
     "output_type": "stream",
     "text": [
      "---ROUTE QUESTION---\n",
      "---ROUTE QUESTION TO RAG---\n",
      "{'question': 'Critically assess the suggestions made by IT professionals for promoting sustainable computing practices.', 'max_retries': 3, 'loop_step': 0}\n",
      "---RETRIEVE---\n"
     ]
    },
    {
     "name": "stderr",
     "output_type": "stream",
     "text": [
      "Batches: 100%|██████████| 1/1 [00:06<00:00,  6.83s/it]\n"
     ]
    },
    {
     "name": "stdout",
     "output_type": "stream",
     "text": [
      "{'question': 'Critically assess the suggestions made by IT professionals for promoting sustainable computing practices.', 'max_retries': 3, 'loop_step': 0, 'documents': [Document(metadata={'id': 'a79a9eee-7f35-4530-8d38-c432bf512aa1', 'source': 'output.md'}, page_content=\"KEY FINDINGS\\n\\n· 40% of participants indicated that IT is used to meet their organisation's ESG goals. 21% suggested that IT isn't used for this, and the rest were either neutral or their organisation did not have an ESG policy.\\n\\n· 59% of respondents feel empowered as an IT professional to speak up on greener and more ethical alternatives in their organisation's tech strategy.\\n\\n· Nearly half of those questioned (45%) think that the government should be the main driver of a roadmap for IT and digital technologies that helps to achieve a greener, more sustainable society. The second choice, relevant professional bodies, scored 18%.\\n\\nAnd on a more specialised note: 'The data and analytics derived through satellite imagery, aerial, and drone platforms will enable accurate reporting and accountability for ESG.'\\n\\nMeasuring and monitoring came up repeatedly, here is a selection of related comments:\\n\\n'For us at the BBC, being able to reduce our own datacentre footprint has been great for our energy consumption and green credentials. We tend to utilise AWS which whilst isn't perfect, enables us to offset some of that effort. Virtual meeting systems have been great in reducing travel between sites (pre-covid) and essential during covid lockdown.'\\n\\n'Myriad of measuring systems that can help a genuine assessment: Vehicle load management and\\n\\nroute planning; haulage sharing; drone deliveries to remote areas.' Building management systems to optimise heating, lighting and ventilation.'\\n\\nSmart allocation of water/ herbicides/pesticides to crops, to reduce the amount needed.'\\n\\nSome people had an emotional and psychological benefit mindset too. For example this suggestion, that we need 'holographic displays so you can get a real sense of being with people without having to travel.'\\n\\nA final idea that came up several times is one making some headway, especially amongst IT folks: 'Principle: repairable IT! Technology should be repairable and upgradeable as opposed being ditched for a new model.'\\n\\nPROMOTING TECHNOLOGIES TO COMBAT THE CLIMATE CRISIS\\n\\nWe asked members to give views on how best government can help promote IT and digital technologies to effectively combat the climate crisis. Here are a sample of suggestions:\\n\\n'Subsidising and incentivising and de incentivising for contrary behaviour.'\"), Document(metadata={'id': 'd90f1775-d70d-49aa-8bdc-0db01c55e21a', 'source': 'output.md'}, page_content=\"'Consult with BCS GreenIT SG for suggestions.'\\n\\nPERSONAL EMPOWERMENT\\n\\nAs IT professionalism is a key plank of BCS strategy we also wanted to get an idea of whether professionals feel empowered to speak up on issues, and also to proffer ethical alternatives if an organisation may be taking a less than fully beneficial turn.\\n\\nA heartfelt 59% said they felt so empowered, only 24% saying no. In answer to the question what would help you feel more able to do so? this is a selection of comments:\\n\\nMore information. There's very little out there on how to get started, the steps to go through. What to look for and tools.'\\n\\nA CIO who actually knows about 'Rather than one who has no technical knowledge and just uses buzzwords/phrases.'\\n\\n'I can speak up about the need but do not have the knowledge about which solutions are best.'\\n\\nBCS'S ROLE\\n\\nWe asked what actions members felt BCS should take to promote the use of IT in a way that contributes to a more sustainable society. Some of the answers express themes that had already come out, and added a few more:\\n\\n'Promote best practise, share real examples, signpost to resources that can help organisations:\\n\\n'Encourage recycling of old hardware and try to upgrade equipment rather than throw it away and buy new:\\n\\n'Keep accessible archives of true lifecycle costs of technologies to help counter proponents' myths and facilitate carbon auditing: '\\n\\n'Help empower BCS members with data to support arguments. Include a cost saving to incentivise corporates to change, whilst enjoying positive PR for working to combat climate change:\\n\\n'Highlight how emerging tech can help.'\\n\\nFacilitate a public discussion, challenge technology directions/ trends that are contrary to environmental objectives, and highlight lazy claims (for example, that 'carbon offsetting' by planting trees doesn't negate the carbon impact, it just defers it)'\"), Document(metadata={'id': '0cb43e63-4219-4304-b16a-dcfe2f4f778b', 'source': 'output.md'}, page_content=\"I have had to refuse to transfer of sensitive data to an external organisation since it was illegal to do so. However, were it not for my BCS training I would not have been aware that it was illegal in the first place. The module 'professional issues is spot on.'\\n\\nEthical trade-offs are an interesting idea: 'Our products were extensively used in the arms industry. We would have preferred if this were not so. We resolved this problem for ourselves by charging less (or nothing at all) to socially benign organisations.'\\n\\nAnd the link between BCS and professionalism is even more explicit in our two closing comments:\\n\\nLet's just say that I had to remind my organisation/ peers that as a Chartered IT Professional I was bound by the BCS Code of Conduct.'\\n\\n'I work as a technical conceptual architect in a sales environment and see a lot of great and poor behaviour. When I see FBCS in the email signature I know they will try to do a good job and uphold standard and industry best practice.'\\n\\nThere are many more comments presented in the full report, which also covers comments on management issues and some international considerations. Members can view the BCS Ethical Dilemmas 2021 minireport on myBCS.\\n\\nTAKING THE TEMPERATURE: SUSTAINABLE COMPUTING\\n\\nETHICS REGULATION\\n\\nSpecifically, this question asked members to give their views on technologies they had seen that benefit the environment and should be used more widely.\\n\\nSuggestions ranged from the prosaic to the specialised, for example, the first category: 'The switch on a power socket. The idea of services being available 24/7 is in many cases a bit daft given that users tend to be asleep 7-10 hours of each day and that a lot of businesses are closed for longer. Just consider the domestic modem, powered 24/7 in most cases when its users may only be conscious in the property for four or 5 hours a day. We would never senselessly leave lights on in the way we leave technology on.'\\n\\nKEY FINDINGS\\n\\n· 40% of participants indicated that IT is used to meet their organisation's ESG goals. 21% suggested that IT isn't used for this, and the rest were either neutral or their organisation did not have an ESG policy.\"), Document(metadata={'id': '09257dc6-ffb8-4c6c-955d-e13d81a9812c', 'source': 'output.md'}, page_content=\"PROMOTING TECHNOLOGIES TO COMBAT THE CLIMATE CRISIS\\n\\nWe asked members to give views on how best government can help promote IT and digital technologies to effectively combat the climate crisis. Here are a sample of suggestions:\\n\\n'Subsidising and incentivising and de incentivising for contrary behaviour.'\\n\\n'Improve connectivity e.g. 5G and better broadband infrastructure particularly for homes as we all work remotely.'\\n\\n'Firstly, outlaw digital currencies. The massive amount of energy going into that is shocking and mostly hidden away. On the promotion-side, if they helped each household achieve a minimum bandwidth that would certainly help with future online teaching and working arrangements. Could they also stipulate a minimum number of hours working at home using IT to help reduce road/train air miles?'\\n\\n'Promoting the use of flow battery technology to balance the grid and make better use of renewables; reducing our dependence on external power generation.'\\n\\n'Tax tech giants and ensure that they are regulated so that fake news is not spread about climate science and tech consumerism!'\\n\\n'Sponsor / support technical development and information exchange.'\\n\\n'The government is travelling in the right direction but appears to lack teeth when it comes to enforcement. The first step is monitor what is going on. There are several software options to use to this end. However apart from listed companies and companies trading over a quoted threshold, the vast majority of UK companies are not legally obliged to report their emissions, hence global remedies are difficult to determine.'\\n\\nBy taxing alternatives like driving so that there is a clear disincentive to drive. By communicating the IT and travel hierarchy clearly - it should be more expensive to travel and easier to access video conferencing. The government could apply this on in their own frontline services (for example, job centres).\\n\\n'Recognising (stating) the BCS as an authoritative voice on the use of IT in relation to creating a sustainable, liveable climate.'\\n\\n'Consult with BCS GreenIT SG for suggestions.'\\n\\nPERSONAL EMPOWERMENT\\n\\nAs IT professionalism is a key plank of BCS strategy we also wanted to get an idea of whether professionals feel empowered to speak up on issues, and also to proffer ethical alternatives if an organisation may be taking a less than fully beneficial turn.\")]}\n",
      "---CHECK DOCUMENT RELEVANCE TO QUESTION---\n",
      "---GRADE: DOCUMENT RELEVANT---\n",
      "---GRADE: DOCUMENT RELEVANT---\n",
      "---GRADE: DOCUMENT RELEVANT---\n",
      "---GRADE: DOCUMENT RELEVANT---\n",
      "---ASSESS GRADED DOCUMENTS---\n",
      "---DECISION: GENERATE---\n",
      "{'question': 'Critically assess the suggestions made by IT professionals for promoting sustainable computing practices.', 'web_search': 'No', 'max_retries': 3, 'loop_step': 0, 'documents': [Document(metadata={'id': 'a79a9eee-7f35-4530-8d38-c432bf512aa1', 'source': 'output.md'}, page_content=\"KEY FINDINGS\\n\\n· 40% of participants indicated that IT is used to meet their organisation's ESG goals. 21% suggested that IT isn't used for this, and the rest were either neutral or their organisation did not have an ESG policy.\\n\\n· 59% of respondents feel empowered as an IT professional to speak up on greener and more ethical alternatives in their organisation's tech strategy.\\n\\n· Nearly half of those questioned (45%) think that the government should be the main driver of a roadmap for IT and digital technologies that helps to achieve a greener, more sustainable society. The second choice, relevant professional bodies, scored 18%.\\n\\nAnd on a more specialised note: 'The data and analytics derived through satellite imagery, aerial, and drone platforms will enable accurate reporting and accountability for ESG.'\\n\\nMeasuring and monitoring came up repeatedly, here is a selection of related comments:\\n\\n'For us at the BBC, being able to reduce our own datacentre footprint has been great for our energy consumption and green credentials. We tend to utilise AWS which whilst isn't perfect, enables us to offset some of that effort. Virtual meeting systems have been great in reducing travel between sites (pre-covid) and essential during covid lockdown.'\\n\\n'Myriad of measuring systems that can help a genuine assessment: Vehicle load management and\\n\\nroute planning; haulage sharing; drone deliveries to remote areas.' Building management systems to optimise heating, lighting and ventilation.'\\n\\nSmart allocation of water/ herbicides/pesticides to crops, to reduce the amount needed.'\\n\\nSome people had an emotional and psychological benefit mindset too. For example this suggestion, that we need 'holographic displays so you can get a real sense of being with people without having to travel.'\\n\\nA final idea that came up several times is one making some headway, especially amongst IT folks: 'Principle: repairable IT! Technology should be repairable and upgradeable as opposed being ditched for a new model.'\\n\\nPROMOTING TECHNOLOGIES TO COMBAT THE CLIMATE CRISIS\\n\\nWe asked members to give views on how best government can help promote IT and digital technologies to effectively combat the climate crisis. Here are a sample of suggestions:\\n\\n'Subsidising and incentivising and de incentivising for contrary behaviour.'\"), Document(metadata={'id': 'd90f1775-d70d-49aa-8bdc-0db01c55e21a', 'source': 'output.md'}, page_content=\"'Consult with BCS GreenIT SG for suggestions.'\\n\\nPERSONAL EMPOWERMENT\\n\\nAs IT professionalism is a key plank of BCS strategy we also wanted to get an idea of whether professionals feel empowered to speak up on issues, and also to proffer ethical alternatives if an organisation may be taking a less than fully beneficial turn.\\n\\nA heartfelt 59% said they felt so empowered, only 24% saying no. In answer to the question what would help you feel more able to do so? this is a selection of comments:\\n\\nMore information. There's very little out there on how to get started, the steps to go through. What to look for and tools.'\\n\\nA CIO who actually knows about 'Rather than one who has no technical knowledge and just uses buzzwords/phrases.'\\n\\n'I can speak up about the need but do not have the knowledge about which solutions are best.'\\n\\nBCS'S ROLE\\n\\nWe asked what actions members felt BCS should take to promote the use of IT in a way that contributes to a more sustainable society. Some of the answers express themes that had already come out, and added a few more:\\n\\n'Promote best practise, share real examples, signpost to resources that can help organisations:\\n\\n'Encourage recycling of old hardware and try to upgrade equipment rather than throw it away and buy new:\\n\\n'Keep accessible archives of true lifecycle costs of technologies to help counter proponents' myths and facilitate carbon auditing: '\\n\\n'Help empower BCS members with data to support arguments. Include a cost saving to incentivise corporates to change, whilst enjoying positive PR for working to combat climate change:\\n\\n'Highlight how emerging tech can help.'\\n\\nFacilitate a public discussion, challenge technology directions/ trends that are contrary to environmental objectives, and highlight lazy claims (for example, that 'carbon offsetting' by planting trees doesn't negate the carbon impact, it just defers it)'\"), Document(metadata={'id': '0cb43e63-4219-4304-b16a-dcfe2f4f778b', 'source': 'output.md'}, page_content=\"I have had to refuse to transfer of sensitive data to an external organisation since it was illegal to do so. However, were it not for my BCS training I would not have been aware that it was illegal in the first place. The module 'professional issues is spot on.'\\n\\nEthical trade-offs are an interesting idea: 'Our products were extensively used in the arms industry. We would have preferred if this were not so. We resolved this problem for ourselves by charging less (or nothing at all) to socially benign organisations.'\\n\\nAnd the link between BCS and professionalism is even more explicit in our two closing comments:\\n\\nLet's just say that I had to remind my organisation/ peers that as a Chartered IT Professional I was bound by the BCS Code of Conduct.'\\n\\n'I work as a technical conceptual architect in a sales environment and see a lot of great and poor behaviour. When I see FBCS in the email signature I know they will try to do a good job and uphold standard and industry best practice.'\\n\\nThere are many more comments presented in the full report, which also covers comments on management issues and some international considerations. Members can view the BCS Ethical Dilemmas 2021 minireport on myBCS.\\n\\nTAKING THE TEMPERATURE: SUSTAINABLE COMPUTING\\n\\nETHICS REGULATION\\n\\nSpecifically, this question asked members to give their views on technologies they had seen that benefit the environment and should be used more widely.\\n\\nSuggestions ranged from the prosaic to the specialised, for example, the first category: 'The switch on a power socket. The idea of services being available 24/7 is in many cases a bit daft given that users tend to be asleep 7-10 hours of each day and that a lot of businesses are closed for longer. Just consider the domestic modem, powered 24/7 in most cases when its users may only be conscious in the property for four or 5 hours a day. We would never senselessly leave lights on in the way we leave technology on.'\\n\\nKEY FINDINGS\\n\\n· 40% of participants indicated that IT is used to meet their organisation's ESG goals. 21% suggested that IT isn't used for this, and the rest were either neutral or their organisation did not have an ESG policy.\"), Document(metadata={'id': '09257dc6-ffb8-4c6c-955d-e13d81a9812c', 'source': 'output.md'}, page_content=\"PROMOTING TECHNOLOGIES TO COMBAT THE CLIMATE CRISIS\\n\\nWe asked members to give views on how best government can help promote IT and digital technologies to effectively combat the climate crisis. Here are a sample of suggestions:\\n\\n'Subsidising and incentivising and de incentivising for contrary behaviour.'\\n\\n'Improve connectivity e.g. 5G and better broadband infrastructure particularly for homes as we all work remotely.'\\n\\n'Firstly, outlaw digital currencies. The massive amount of energy going into that is shocking and mostly hidden away. On the promotion-side, if they helped each household achieve a minimum bandwidth that would certainly help with future online teaching and working arrangements. Could they also stipulate a minimum number of hours working at home using IT to help reduce road/train air miles?'\\n\\n'Promoting the use of flow battery technology to balance the grid and make better use of renewables; reducing our dependence on external power generation.'\\n\\n'Tax tech giants and ensure that they are regulated so that fake news is not spread about climate science and tech consumerism!'\\n\\n'Sponsor / support technical development and information exchange.'\\n\\n'The government is travelling in the right direction but appears to lack teeth when it comes to enforcement. The first step is monitor what is going on. There are several software options to use to this end. However apart from listed companies and companies trading over a quoted threshold, the vast majority of UK companies are not legally obliged to report their emissions, hence global remedies are difficult to determine.'\\n\\nBy taxing alternatives like driving so that there is a clear disincentive to drive. By communicating the IT and travel hierarchy clearly - it should be more expensive to travel and easier to access video conferencing. The government could apply this on in their own frontline services (for example, job centres).\\n\\n'Recognising (stating) the BCS as an authoritative voice on the use of IT in relation to creating a sustainable, liveable climate.'\\n\\n'Consult with BCS GreenIT SG for suggestions.'\\n\\nPERSONAL EMPOWERMENT\\n\\nAs IT professionalism is a key plank of BCS strategy we also wanted to get an idea of whether professionals feel empowered to speak up on issues, and also to proffer ethical alternatives if an organisation may be taking a less than fully beneficial turn.\")]}\n",
      "---GENERATE---\n",
      "---CHECK HALUCINATIONS\n",
      "---DECISION: GENERATION IS GROUNDED IN DOCUMENTS---\n",
      "---GRADE GENERATION vs QUESTION---\n",
      "---DECISION: GENERATION ANSWERS QUESTION---\n",
      "{'question': 'Critically assess the suggestions made by IT professionals for promoting sustainable computing practices.', 'generation': AIMessage(content='IT professionals suggested various ways to promote sustainable computing practices, including subsidising and incentivising eco-friendly behaviour, improving connectivity, and promoting the use of flow battery technology to balance the grid and make better use of renewables. Some also recommended taxing tech giants, regulating them to prevent the spread of fake news, and recognising the BCS as an authoritative voice on sustainable IT practices. Additionally, professionals suggested that the government should outlaw digital currencies, promote video conferencing, and apply disincentives to driving to encourage more sustainable practices.', additional_kwargs={}, response_metadata={'token_usage': {'completion_tokens': 106, 'prompt_tokens': 1872, 'total_tokens': 1978, 'completion_time': 0.385454545, 'prompt_time': 0.127956931, 'queue_time': 0.24341102400000003, 'total_time': 0.513411476}, 'model_name': 'llama-3.3-70b-versatile', 'system_fingerprint': 'fp_90c1d253ff', 'finish_reason': 'stop', 'logprobs': None}, id='run-a56f7c92-a884-4e96-afdd-6c0bfb662cbb-0', usage_metadata={'input_tokens': 1872, 'output_tokens': 106, 'total_tokens': 1978}), 'web_search': 'No', 'max_retries': 3, 'loop_step': 0, 'documents': [Document(metadata={'id': 'a79a9eee-7f35-4530-8d38-c432bf512aa1', 'source': 'output.md'}, page_content=\"KEY FINDINGS\\n\\n· 40% of participants indicated that IT is used to meet their organisation's ESG goals. 21% suggested that IT isn't used for this, and the rest were either neutral or their organisation did not have an ESG policy.\\n\\n· 59% of respondents feel empowered as an IT professional to speak up on greener and more ethical alternatives in their organisation's tech strategy.\\n\\n· Nearly half of those questioned (45%) think that the government should be the main driver of a roadmap for IT and digital technologies that helps to achieve a greener, more sustainable society. The second choice, relevant professional bodies, scored 18%.\\n\\nAnd on a more specialised note: 'The data and analytics derived through satellite imagery, aerial, and drone platforms will enable accurate reporting and accountability for ESG.'\\n\\nMeasuring and monitoring came up repeatedly, here is a selection of related comments:\\n\\n'For us at the BBC, being able to reduce our own datacentre footprint has been great for our energy consumption and green credentials. We tend to utilise AWS which whilst isn't perfect, enables us to offset some of that effort. Virtual meeting systems have been great in reducing travel between sites (pre-covid) and essential during covid lockdown.'\\n\\n'Myriad of measuring systems that can help a genuine assessment: Vehicle load management and\\n\\nroute planning; haulage sharing; drone deliveries to remote areas.' Building management systems to optimise heating, lighting and ventilation.'\\n\\nSmart allocation of water/ herbicides/pesticides to crops, to reduce the amount needed.'\\n\\nSome people had an emotional and psychological benefit mindset too. For example this suggestion, that we need 'holographic displays so you can get a real sense of being with people without having to travel.'\\n\\nA final idea that came up several times is one making some headway, especially amongst IT folks: 'Principle: repairable IT! Technology should be repairable and upgradeable as opposed being ditched for a new model.'\\n\\nPROMOTING TECHNOLOGIES TO COMBAT THE CLIMATE CRISIS\\n\\nWe asked members to give views on how best government can help promote IT and digital technologies to effectively combat the climate crisis. Here are a sample of suggestions:\\n\\n'Subsidising and incentivising and de incentivising for contrary behaviour.'\"), Document(metadata={'id': 'd90f1775-d70d-49aa-8bdc-0db01c55e21a', 'source': 'output.md'}, page_content=\"'Consult with BCS GreenIT SG for suggestions.'\\n\\nPERSONAL EMPOWERMENT\\n\\nAs IT professionalism is a key plank of BCS strategy we also wanted to get an idea of whether professionals feel empowered to speak up on issues, and also to proffer ethical alternatives if an organisation may be taking a less than fully beneficial turn.\\n\\nA heartfelt 59% said they felt so empowered, only 24% saying no. In answer to the question what would help you feel more able to do so? this is a selection of comments:\\n\\nMore information. There's very little out there on how to get started, the steps to go through. What to look for and tools.'\\n\\nA CIO who actually knows about 'Rather than one who has no technical knowledge and just uses buzzwords/phrases.'\\n\\n'I can speak up about the need but do not have the knowledge about which solutions are best.'\\n\\nBCS'S ROLE\\n\\nWe asked what actions members felt BCS should take to promote the use of IT in a way that contributes to a more sustainable society. Some of the answers express themes that had already come out, and added a few more:\\n\\n'Promote best practise, share real examples, signpost to resources that can help organisations:\\n\\n'Encourage recycling of old hardware and try to upgrade equipment rather than throw it away and buy new:\\n\\n'Keep accessible archives of true lifecycle costs of technologies to help counter proponents' myths and facilitate carbon auditing: '\\n\\n'Help empower BCS members with data to support arguments. Include a cost saving to incentivise corporates to change, whilst enjoying positive PR for working to combat climate change:\\n\\n'Highlight how emerging tech can help.'\\n\\nFacilitate a public discussion, challenge technology directions/ trends that are contrary to environmental objectives, and highlight lazy claims (for example, that 'carbon offsetting' by planting trees doesn't negate the carbon impact, it just defers it)'\"), Document(metadata={'id': '0cb43e63-4219-4304-b16a-dcfe2f4f778b', 'source': 'output.md'}, page_content=\"I have had to refuse to transfer of sensitive data to an external organisation since it was illegal to do so. However, were it not for my BCS training I would not have been aware that it was illegal in the first place. The module 'professional issues is spot on.'\\n\\nEthical trade-offs are an interesting idea: 'Our products were extensively used in the arms industry. We would have preferred if this were not so. We resolved this problem for ourselves by charging less (or nothing at all) to socially benign organisations.'\\n\\nAnd the link between BCS and professionalism is even more explicit in our two closing comments:\\n\\nLet's just say that I had to remind my organisation/ peers that as a Chartered IT Professional I was bound by the BCS Code of Conduct.'\\n\\n'I work as a technical conceptual architect in a sales environment and see a lot of great and poor behaviour. When I see FBCS in the email signature I know they will try to do a good job and uphold standard and industry best practice.'\\n\\nThere are many more comments presented in the full report, which also covers comments on management issues and some international considerations. Members can view the BCS Ethical Dilemmas 2021 minireport on myBCS.\\n\\nTAKING THE TEMPERATURE: SUSTAINABLE COMPUTING\\n\\nETHICS REGULATION\\n\\nSpecifically, this question asked members to give their views on technologies they had seen that benefit the environment and should be used more widely.\\n\\nSuggestions ranged from the prosaic to the specialised, for example, the first category: 'The switch on a power socket. The idea of services being available 24/7 is in many cases a bit daft given that users tend to be asleep 7-10 hours of each day and that a lot of businesses are closed for longer. Just consider the domestic modem, powered 24/7 in most cases when its users may only be conscious in the property for four or 5 hours a day. We would never senselessly leave lights on in the way we leave technology on.'\\n\\nKEY FINDINGS\\n\\n· 40% of participants indicated that IT is used to meet their organisation's ESG goals. 21% suggested that IT isn't used for this, and the rest were either neutral or their organisation did not have an ESG policy.\"), Document(metadata={'id': '09257dc6-ffb8-4c6c-955d-e13d81a9812c', 'source': 'output.md'}, page_content=\"PROMOTING TECHNOLOGIES TO COMBAT THE CLIMATE CRISIS\\n\\nWe asked members to give views on how best government can help promote IT and digital technologies to effectively combat the climate crisis. Here are a sample of suggestions:\\n\\n'Subsidising and incentivising and de incentivising for contrary behaviour.'\\n\\n'Improve connectivity e.g. 5G and better broadband infrastructure particularly for homes as we all work remotely.'\\n\\n'Firstly, outlaw digital currencies. The massive amount of energy going into that is shocking and mostly hidden away. On the promotion-side, if they helped each household achieve a minimum bandwidth that would certainly help with future online teaching and working arrangements. Could they also stipulate a minimum number of hours working at home using IT to help reduce road/train air miles?'\\n\\n'Promoting the use of flow battery technology to balance the grid and make better use of renewables; reducing our dependence on external power generation.'\\n\\n'Tax tech giants and ensure that they are regulated so that fake news is not spread about climate science and tech consumerism!'\\n\\n'Sponsor / support technical development and information exchange.'\\n\\n'The government is travelling in the right direction but appears to lack teeth when it comes to enforcement. The first step is monitor what is going on. There are several software options to use to this end. However apart from listed companies and companies trading over a quoted threshold, the vast majority of UK companies are not legally obliged to report their emissions, hence global remedies are difficult to determine.'\\n\\nBy taxing alternatives like driving so that there is a clear disincentive to drive. By communicating the IT and travel hierarchy clearly - it should be more expensive to travel and easier to access video conferencing. The government could apply this on in their own frontline services (for example, job centres).\\n\\n'Recognising (stating) the BCS as an authoritative voice on the use of IT in relation to creating a sustainable, liveable climate.'\\n\\n'Consult with BCS GreenIT SG for suggestions.'\\n\\nPERSONAL EMPOWERMENT\\n\\nAs IT professionalism is a key plank of BCS strategy we also wanted to get an idea of whether professionals feel empowered to speak up on issues, and also to proffer ethical alternatives if an organisation may be taking a less than fully beneficial turn.\")]}\n"
     ]
    }
   ],
   "source": [
    "# Stream events from the compiled graph\n",
    "for event in graph.stream(inputs, stream_mode=\"values\"):\n",
    "    print(event)"
   ]
  },
  {
   "cell_type": "code",
   "execution_count": 28,
   "metadata": {},
   "outputs": [
    {
     "data": {
      "text/plain": [
       "{'question': 'Critically assess the suggestions made by IT professionals for promoting sustainable computing practices.',\n",
       " 'generation': AIMessage(content='IT professionals suggested various ways to promote sustainable computing practices, including subsidising and incentivising eco-friendly behaviour, improving connectivity, and promoting the use of flow battery technology to balance the grid and make better use of renewables. Some also recommended taxing tech giants, regulating them to prevent the spread of fake news, and recognising the BCS as an authoritative voice on sustainable IT practices. Additionally, professionals suggested that the government should outlaw digital currencies, promote video conferencing, and apply disincentives to driving to encourage more sustainable practices.', additional_kwargs={}, response_metadata={'token_usage': {'completion_tokens': 106, 'prompt_tokens': 1872, 'total_tokens': 1978, 'completion_time': 0.385454545, 'prompt_time': 0.127956931, 'queue_time': 0.24341102400000003, 'total_time': 0.513411476}, 'model_name': 'llama-3.3-70b-versatile', 'system_fingerprint': 'fp_90c1d253ff', 'finish_reason': 'stop', 'logprobs': None}, id='run-a56f7c92-a884-4e96-afdd-6c0bfb662cbb-0', usage_metadata={'input_tokens': 1872, 'output_tokens': 106, 'total_tokens': 1978}),\n",
       " 'web_search': 'No',\n",
       " 'max_retries': 3,\n",
       " 'loop_step': 0,\n",
       " 'documents': [Document(metadata={'id': 'a79a9eee-7f35-4530-8d38-c432bf512aa1', 'source': 'output.md'}, page_content=\"KEY FINDINGS\\n\\n· 40% of participants indicated that IT is used to meet their organisation's ESG goals. 21% suggested that IT isn't used for this, and the rest were either neutral or their organisation did not have an ESG policy.\\n\\n· 59% of respondents feel empowered as an IT professional to speak up on greener and more ethical alternatives in their organisation's tech strategy.\\n\\n· Nearly half of those questioned (45%) think that the government should be the main driver of a roadmap for IT and digital technologies that helps to achieve a greener, more sustainable society. The second choice, relevant professional bodies, scored 18%.\\n\\nAnd on a more specialised note: 'The data and analytics derived through satellite imagery, aerial, and drone platforms will enable accurate reporting and accountability for ESG.'\\n\\nMeasuring and monitoring came up repeatedly, here is a selection of related comments:\\n\\n'For us at the BBC, being able to reduce our own datacentre footprint has been great for our energy consumption and green credentials. We tend to utilise AWS which whilst isn't perfect, enables us to offset some of that effort. Virtual meeting systems have been great in reducing travel between sites (pre-covid) and essential during covid lockdown.'\\n\\n'Myriad of measuring systems that can help a genuine assessment: Vehicle load management and\\n\\nroute planning; haulage sharing; drone deliveries to remote areas.' Building management systems to optimise heating, lighting and ventilation.'\\n\\nSmart allocation of water/ herbicides/pesticides to crops, to reduce the amount needed.'\\n\\nSome people had an emotional and psychological benefit mindset too. For example this suggestion, that we need 'holographic displays so you can get a real sense of being with people without having to travel.'\\n\\nA final idea that came up several times is one making some headway, especially amongst IT folks: 'Principle: repairable IT! Technology should be repairable and upgradeable as opposed being ditched for a new model.'\\n\\nPROMOTING TECHNOLOGIES TO COMBAT THE CLIMATE CRISIS\\n\\nWe asked members to give views on how best government can help promote IT and digital technologies to effectively combat the climate crisis. Here are a sample of suggestions:\\n\\n'Subsidising and incentivising and de incentivising for contrary behaviour.'\"),\n",
       "  Document(metadata={'id': 'd90f1775-d70d-49aa-8bdc-0db01c55e21a', 'source': 'output.md'}, page_content=\"'Consult with BCS GreenIT SG for suggestions.'\\n\\nPERSONAL EMPOWERMENT\\n\\nAs IT professionalism is a key plank of BCS strategy we also wanted to get an idea of whether professionals feel empowered to speak up on issues, and also to proffer ethical alternatives if an organisation may be taking a less than fully beneficial turn.\\n\\nA heartfelt 59% said they felt so empowered, only 24% saying no. In answer to the question what would help you feel more able to do so? this is a selection of comments:\\n\\nMore information. There's very little out there on how to get started, the steps to go through. What to look for and tools.'\\n\\nA CIO who actually knows about 'Rather than one who has no technical knowledge and just uses buzzwords/phrases.'\\n\\n'I can speak up about the need but do not have the knowledge about which solutions are best.'\\n\\nBCS'S ROLE\\n\\nWe asked what actions members felt BCS should take to promote the use of IT in a way that contributes to a more sustainable society. Some of the answers express themes that had already come out, and added a few more:\\n\\n'Promote best practise, share real examples, signpost to resources that can help organisations:\\n\\n'Encourage recycling of old hardware and try to upgrade equipment rather than throw it away and buy new:\\n\\n'Keep accessible archives of true lifecycle costs of technologies to help counter proponents' myths and facilitate carbon auditing: '\\n\\n'Help empower BCS members with data to support arguments. Include a cost saving to incentivise corporates to change, whilst enjoying positive PR for working to combat climate change:\\n\\n'Highlight how emerging tech can help.'\\n\\nFacilitate a public discussion, challenge technology directions/ trends that are contrary to environmental objectives, and highlight lazy claims (for example, that 'carbon offsetting' by planting trees doesn't negate the carbon impact, it just defers it)'\"),\n",
       "  Document(metadata={'id': '0cb43e63-4219-4304-b16a-dcfe2f4f778b', 'source': 'output.md'}, page_content=\"I have had to refuse to transfer of sensitive data to an external organisation since it was illegal to do so. However, were it not for my BCS training I would not have been aware that it was illegal in the first place. The module 'professional issues is spot on.'\\n\\nEthical trade-offs are an interesting idea: 'Our products were extensively used in the arms industry. We would have preferred if this were not so. We resolved this problem for ourselves by charging less (or nothing at all) to socially benign organisations.'\\n\\nAnd the link between BCS and professionalism is even more explicit in our two closing comments:\\n\\nLet's just say that I had to remind my organisation/ peers that as a Chartered IT Professional I was bound by the BCS Code of Conduct.'\\n\\n'I work as a technical conceptual architect in a sales environment and see a lot of great and poor behaviour. When I see FBCS in the email signature I know they will try to do a good job and uphold standard and industry best practice.'\\n\\nThere are many more comments presented in the full report, which also covers comments on management issues and some international considerations. Members can view the BCS Ethical Dilemmas 2021 minireport on myBCS.\\n\\nTAKING THE TEMPERATURE: SUSTAINABLE COMPUTING\\n\\nETHICS REGULATION\\n\\nSpecifically, this question asked members to give their views on technologies they had seen that benefit the environment and should be used more widely.\\n\\nSuggestions ranged from the prosaic to the specialised, for example, the first category: 'The switch on a power socket. The idea of services being available 24/7 is in many cases a bit daft given that users tend to be asleep 7-10 hours of each day and that a lot of businesses are closed for longer. Just consider the domestic modem, powered 24/7 in most cases when its users may only be conscious in the property for four or 5 hours a day. We would never senselessly leave lights on in the way we leave technology on.'\\n\\nKEY FINDINGS\\n\\n· 40% of participants indicated that IT is used to meet their organisation's ESG goals. 21% suggested that IT isn't used for this, and the rest were either neutral or their organisation did not have an ESG policy.\"),\n",
       "  Document(metadata={'id': '09257dc6-ffb8-4c6c-955d-e13d81a9812c', 'source': 'output.md'}, page_content=\"PROMOTING TECHNOLOGIES TO COMBAT THE CLIMATE CRISIS\\n\\nWe asked members to give views on how best government can help promote IT and digital technologies to effectively combat the climate crisis. Here are a sample of suggestions:\\n\\n'Subsidising and incentivising and de incentivising for contrary behaviour.'\\n\\n'Improve connectivity e.g. 5G and better broadband infrastructure particularly for homes as we all work remotely.'\\n\\n'Firstly, outlaw digital currencies. The massive amount of energy going into that is shocking and mostly hidden away. On the promotion-side, if they helped each household achieve a minimum bandwidth that would certainly help with future online teaching and working arrangements. Could they also stipulate a minimum number of hours working at home using IT to help reduce road/train air miles?'\\n\\n'Promoting the use of flow battery technology to balance the grid and make better use of renewables; reducing our dependence on external power generation.'\\n\\n'Tax tech giants and ensure that they are regulated so that fake news is not spread about climate science and tech consumerism!'\\n\\n'Sponsor / support technical development and information exchange.'\\n\\n'The government is travelling in the right direction but appears to lack teeth when it comes to enforcement. The first step is monitor what is going on. There are several software options to use to this end. However apart from listed companies and companies trading over a quoted threshold, the vast majority of UK companies are not legally obliged to report their emissions, hence global remedies are difficult to determine.'\\n\\nBy taxing alternatives like driving so that there is a clear disincentive to drive. By communicating the IT and travel hierarchy clearly - it should be more expensive to travel and easier to access video conferencing. The government could apply this on in their own frontline services (for example, job centres).\\n\\n'Recognising (stating) the BCS as an authoritative voice on the use of IT in relation to creating a sustainable, liveable climate.'\\n\\n'Consult with BCS GreenIT SG for suggestions.'\\n\\nPERSONAL EMPOWERMENT\\n\\nAs IT professionalism is a key plank of BCS strategy we also wanted to get an idea of whether professionals feel empowered to speak up on issues, and also to proffer ethical alternatives if an organisation may be taking a less than fully beneficial turn.\")]}"
      ]
     },
     "execution_count": 28,
     "metadata": {},
     "output_type": "execute_result"
    }
   ],
   "source": [
    "event"
   ]
  },
  {
   "cell_type": "code",
   "execution_count": 30,
   "metadata": {},
   "outputs": [
    {
     "name": "stdout",
     "output_type": "stream",
     "text": [
      "{\n",
      "    \"content\": \"IT professionals suggested various ways to promote sustainable computing practices, including subsidising and incentivising eco-friendly behaviour, improving connectivity, and promoting the use of flow battery technology to balance the grid and make better use of renewables. Some also recommended taxing tech giants, regulating them to prevent the spread of fake news, and recognising the BCS as an authoritative voice on sustainable IT practices. Additionally, professionals suggested that the government should outlaw digital currencies, promote video conferencing, and apply disincentives to driving to encourage more sustainable practices.\",\n",
      "    \"additional_kwargs\": {},\n",
      "    \"response_metadata\": {\n",
      "        \"token_usage\": {\n",
      "            \"completion_tokens\": 106,\n",
      "            \"prompt_tokens\": 1872,\n",
      "            \"total_tokens\": 1978,\n",
      "            \"completion_time\": 0.385454545,\n",
      "            \"prompt_time\": 0.127956931,\n",
      "            \"queue_time\": 0.24341102400000003,\n",
      "            \"total_time\": 0.513411476\n",
      "        },\n",
      "        \"model_name\": \"llama-3.3-70b-versatile\",\n",
      "        \"system_fingerprint\": \"fp_90c1d253ff\",\n",
      "        \"finish_reason\": \"stop\",\n",
      "        \"logprobs\": null\n",
      "    },\n",
      "    \"type\": \"ai\",\n",
      "    \"name\": null,\n",
      "    \"id\": \"run-a56f7c92-a884-4e96-afdd-6c0bfb662cbb-0\",\n",
      "    \"example\": false,\n",
      "    \"tool_calls\": [],\n",
      "    \"invalid_tool_calls\": [],\n",
      "    \"usage_metadata\": {\n",
      "        \"input_tokens\": 1872,\n",
      "        \"output_tokens\": 106,\n",
      "        \"total_tokens\": 1978\n",
      "    }\n",
      "}\n"
     ]
    }
   ],
   "source": [
    "print(json.dumps(event['generation'].model_dump(), indent=4))"
   ]
  },
  {
   "cell_type": "code",
   "execution_count": 31,
   "metadata": {},
   "outputs": [
    {
     "data": {
      "text/markdown": [
       "IT professionals suggested various ways to promote sustainable computing practices, including subsidising and incentivising eco-friendly behaviour, improving connectivity, and promoting the use of flow battery technology to balance the grid and make better use of renewables. Some also recommended taxing tech giants, regulating them to prevent the spread of fake news, and recognising the BCS as an authoritative voice on sustainable IT practices. Additionally, professionals suggested that the government should outlaw digital currencies, promote video conferencing, and apply disincentives to driving to encourage more sustainable practices."
      ],
      "text/plain": [
       "<IPython.core.display.Markdown object>"
      ]
     },
     "metadata": {},
     "output_type": "display_data"
    }
   ],
   "source": [
    "# Question: Critically assess the suggestions made by IT professionals for promoting sustainable computing practices.\n",
    "display_md(event['generation'].model_dump()['content'])"
   ]
  },
  {
   "cell_type": "markdown",
   "metadata": {},
   "source": [
    "## Orchestration Benchmarking"
   ]
  },
  {
   "cell_type": "code",
   "execution_count": 168,
   "metadata": {},
   "outputs": [],
   "source": [
    "# Load libraries\n",
    "import time\n",
    "import traceback\n",
    "import pandas as pd\n",
    "from tqdm import tqdm\n",
    "from typing import Dict, Union"
   ]
  },
  {
   "cell_type": "code",
   "execution_count": 169,
   "metadata": {},
   "outputs": [],
   "source": [
    "# Load hallucination detector model\n",
    "detector = HallucinationDetector(\n",
    "    method=\"transformer\", model_path=\"KRLabsOrg/lettucedect-base-modernbert-en-v1\"\n",
    ")"
   ]
  },
  {
   "cell_type": "code",
   "execution_count": 170,
   "metadata": {},
   "outputs": [],
   "source": [
    "# Define list of questions (minimal 10 question.)\n",
    "list_questions = [\n",
    "    \"How does the underrepresentation of ethnic minorities in specific IT roles, such as Specialist IT Managers (12%) compared to Business Analysts (26%), reflect broader systemic issues within the IT industry's recruitment and retention practices?\",\n",
    "    \"Given that only 42% of respondents believe their senior leadership teams have sufficient skills to manage cyber risk, what comprehensive strategies could organizations implement to bridge this knowledge gap while addressing the growing concerns about cloud vulnerabilities and third-party infrastructure?\",\n",
    "    \"In what ways might the shift towards remote working, accelerated by the pandemic, disproportionately affect older IT specialists (aged 50+), considering their higher likelihood of holding responsible positions but also facing higher unemployment rates compared to younger counterparts?\",\n",
    "    \"Considering that 61% of IT professionals feel empowered to speak up about greener alternatives, yet only 40% indicate IT is actively used to meet ESG goals, what structural or cultural barriers might exist within organizations that prevent the translation of ethical intentions into actionable sustainability initiatives?\",\n",
    "    \"How can the IT industry address the dual challenge of increasing representation of people with disabilities (currently at 10%) while also ensuring equitable access to job-related education and training opportunities, given that 30% of IT specialists with disabilities received training compared to 23% without disabilities?\",\n",
    "    \"With nearly half (49%) of cybersecurity respondents expressing concern about the shift to third-party cloud computing, how should IT leaders balance the benefits of cloud adoption with the potential risks, particularly regarding compliance with regulations like GDPR, Schrems II, and DPA (2018)?\",\n",
    "    \"What are the ethical considerations regarding AI and data mentioned in the ethical dilemmas section, and how do they intersect with diversity concerns? What role can professional bodies like BCS play in fostering both ethical practices and inclusive work environments?\",\n",
    "    \"What implications does the significant gender disparity in IT degree attainment (6% of female IT specialists vs. 14% of male IT specialists) have for long-term career progression and leadership opportunities for women in IT, and how can educational institutions and employers collaborate to close this gap?\",\n",
    "    \"Analyze the potential consequences of the UK losing control over significant digital tech companies like ARM, given that 95% of IT professionals consider retaining ownership crucial, and discuss how this aligns with concerns about AI development and its societal impacts.\",\n",
    "    \"Evaluate the effectiveness of current measures to combat online abuse through real ID verification on social media platforms, taking into account the technical feasibility (56% believe it’s achievable), privacy concerns raised by BCS members, and the broader implications for free speech and digital rights.\"\n",
    "]"
   ]
  },
  {
   "cell_type": "code",
   "execution_count": 171,
   "metadata": {},
   "outputs": [],
   "source": [
    "def evaluate_orchestration(questions: List[str], max_retries: int = 3) -> Dict[str, Union[int, float, str, bool]]:\n",
    "    result_evaluation = {\n",
    "        \"question\": [],\n",
    "        \"answer\": [],\n",
    "        \"token_input\": [],\n",
    "        \"token_output\": [],\n",
    "        \"latency\": [],\n",
    "        \"max_retries\": [],\n",
    "        \"is_web_search\": [],\n",
    "        \"hallucation_score\": []\n",
    "    }\n",
    "    for question in tqdm(questions, desc=\"Evaluation\"):\n",
    "        try:\n",
    "            start_time = time.time()\n",
    "            result_graph = graph.invoke(\n",
    "                {\n",
    "                    \"question\": question,\n",
    "                    \"max_retries\": max_retries\n",
    "                }\n",
    "            )\n",
    "            end_time = time.time() - start_time\n",
    "\n",
    "            metadata_answer = result_graph[\"generation\"].model_dump()\n",
    "            contexts = result_graph[\"documents\"]\n",
    "            answer = metadata_answer[\"content\"]\n",
    "\n",
    "            confidence_score = 0.0\n",
    "            for context in contexts:\n",
    "                evaluation = detector.predict(\n",
    "                    context=context.page_content, \n",
    "                    question=question, \n",
    "                    answer=answer, \n",
    "                    output_format=\"spans\"\n",
    "                )\n",
    "                if len(evaluation) == 0:\n",
    "                    continue\n",
    "                confidence_score = evaluation[0][\"confidence\"]\n",
    "                \n",
    "            result_evaluation[\"question\"].append(question)\n",
    "            result_evaluation[\"answer\"].append(answer)\n",
    "            result_evaluation[\"token_input\"].append(metadata_answer[\"usage_metadata\"][\"input_tokens\"])\n",
    "            result_evaluation[\"token_output\"].append(metadata_answer[\"usage_metadata\"][\"output_tokens\"])\n",
    "            result_evaluation[\"latency\"].append(end_time)\n",
    "            result_evaluation[\"max_retries\"].append(result_graph[\"max_retries\"])\n",
    "\n",
    "            if \"web_search\" in result_graph:\n",
    "                result_evaluation[\"is_web_search\"].append(result_graph[\"web_search\"])\n",
    "            else:\n",
    "                result_evaluation[\"is_web_search\"].append(\"No\")\n",
    "            \n",
    "            result_evaluation[\"hallucation_score\"].append(confidence_score)\n",
    "            \n",
    "        except Exception as _:\n",
    "            traceback.print_exc()\n",
    "            continue\n",
    "\n",
    "        # Prevent rate limit Groq - free service.\n",
    "        time.sleep(15)\n",
    "\n",
    "    return result_evaluation"
   ]
  },
  {
   "cell_type": "code",
   "execution_count": 172,
   "metadata": {},
   "outputs": [],
   "source": [
    "# TODO: ...\n",
    "# Question | Answer | Total Input Token | Total Output Token | Latency | Max Retries | Web Search | Hallucation Score"
   ]
  },
  {
   "cell_type": "code",
   "execution_count": 173,
   "metadata": {},
   "outputs": [
    {
     "name": "stderr",
     "output_type": "stream",
     "text": [
      "Evaluation:   0%|          | 0/10 [00:00<?, ?it/s]"
     ]
    },
    {
     "name": "stdout",
     "output_type": "stream",
     "text": [
      "---ROUTE QUESTION---\n",
      "---ROUTE QUESTION TO RAG---\n",
      "---RETRIEVE---\n"
     ]
    },
    {
     "name": "stderr",
     "output_type": "stream",
     "text": [
      "Batches: 100%|██████████| 1/1 [00:07<00:00,  7.01s/it]\n"
     ]
    },
    {
     "name": "stdout",
     "output_type": "stream",
     "text": [
      "---CHECK DOCUMENT RELEVANCE TO QUESTION---\n",
      "---GRADE: DOCUMENT RELEVANT---\n",
      "---GRADE: DOCUMENT RELEVANT---\n",
      "---GRADE: DOCUMENT RELEVANT---\n",
      "---GRADE: DOCUMENT RELEVANT---\n",
      "---ASSESS GRADED DOCUMENTS---\n",
      "---DECISION: GENERATE---\n",
      "---GENERATE---\n",
      "---CHECK HALUCINATIONS\n",
      "---DECISION: GENERATION IS GROUNDED IN DOCUMENTS---\n",
      "---GRADE GENERATION vs QUESTION---\n"
     ]
    },
    {
     "name": "stderr",
     "output_type": "stream",
     "text": [
      "Token indices sequence length is longer than the specified maximum sequence length for this model (14795 > 8192). Running this sequence through the model will result in indexing errors\n"
     ]
    },
    {
     "name": "stdout",
     "output_type": "stream",
     "text": [
      "---DECISION: GENERATION ANSWERS QUESTION---\n"
     ]
    },
    {
     "name": "stderr",
     "output_type": "stream",
     "text": [
      "Evaluation:  10%|█         | 1/10 [01:10<10:32, 70.32s/it]"
     ]
    },
    {
     "name": "stdout",
     "output_type": "stream",
     "text": [
      "---ROUTE QUESTION---\n",
      "---ROUTE QUESTION TO RAG---\n",
      "---RETRIEVE---\n"
     ]
    },
    {
     "name": "stderr",
     "output_type": "stream",
     "text": [
      "Batches: 100%|██████████| 1/1 [00:03<00:00,  3.87s/it]\n"
     ]
    },
    {
     "name": "stdout",
     "output_type": "stream",
     "text": [
      "---CHECK DOCUMENT RELEVANCE TO QUESTION---\n",
      "---GRADE: DOCUMENT RELEVANT---\n",
      "---GRADE: DOCUMENT RELEVANT---\n",
      "---GRADE: DOCUMENT RELEVANT---\n",
      "---GRADE: DOCUMENT RELEVANT---\n",
      "---ASSESS GRADED DOCUMENTS---\n",
      "---DECISION: GENERATE---\n",
      "---GENERATE---\n",
      "---CHECK HALUCINATIONS\n",
      "---DECISION: GENERATION IS GROUNDED IN DOCUMENTS---\n",
      "---GRADE GENERATION vs QUESTION---\n",
      "---DECISION: GENERATION ANSWERS QUESTION---\n"
     ]
    },
    {
     "name": "stderr",
     "output_type": "stream",
     "text": [
      "Evaluation:  20%|██        | 2/10 [02:35<10:33, 79.22s/it]"
     ]
    },
    {
     "name": "stdout",
     "output_type": "stream",
     "text": [
      "---ROUTE QUESTION---\n",
      "---ROUTE QUESTION TO RAG---\n",
      "---RETRIEVE---\n"
     ]
    },
    {
     "name": "stderr",
     "output_type": "stream",
     "text": [
      "Batches: 100%|██████████| 1/1 [00:10<00:00, 10.91s/it]\n"
     ]
    },
    {
     "name": "stdout",
     "output_type": "stream",
     "text": [
      "---CHECK DOCUMENT RELEVANCE TO QUESTION---\n",
      "---GRADE: DOCUMENT RELEVANT---\n",
      "---GRADE: DOCUMENT RELEVANT---\n",
      "---GRADE: DOCUMENT RELEVANT---\n",
      "---GRADE: DOCUMENT RELEVANT---\n",
      "---ASSESS GRADED DOCUMENTS---\n",
      "---DECISION: GENERATE---\n",
      "---GENERATE---\n",
      "---CHECK HALUCINATIONS\n",
      "---DECISION: GENERATION IS GROUNDED IN DOCUMENTS---\n",
      "---GRADE GENERATION vs QUESTION---\n",
      "---DECISION: GENERATION ANSWERS QUESTION---\n"
     ]
    },
    {
     "name": "stderr",
     "output_type": "stream",
     "text": [
      "Evaluation:  30%|███       | 3/10 [03:53<09:09, 78.57s/it]"
     ]
    },
    {
     "name": "stdout",
     "output_type": "stream",
     "text": [
      "---ROUTE QUESTION---\n",
      "---ROUTE QUESTION TO RAG---\n",
      "---RETRIEVE---\n"
     ]
    },
    {
     "name": "stderr",
     "output_type": "stream",
     "text": [
      "Batches: 100%|██████████| 1/1 [00:08<00:00,  8.46s/it]\n"
     ]
    },
    {
     "name": "stdout",
     "output_type": "stream",
     "text": [
      "---CHECK DOCUMENT RELEVANCE TO QUESTION---\n",
      "---GRADE: DOCUMENT RELEVANT---\n",
      "---GRADE: DOCUMENT RELEVANT---\n",
      "---GRADE: DOCUMENT RELEVANT---\n",
      "---GRADE: DOCUMENT RELEVANT---\n",
      "---ASSESS GRADED DOCUMENTS---\n",
      "---DECISION: GENERATE---\n",
      "---GENERATE---\n",
      "---CHECK HALUCINATIONS\n",
      "---DECISION: GENERATION IS GROUNDED IN DOCUMENTS---\n",
      "---GRADE GENERATION vs QUESTION---\n",
      "---DECISION: GENERATION ANSWERS QUESTION---\n"
     ]
    },
    {
     "name": "stderr",
     "output_type": "stream",
     "text": [
      "Evaluation:  40%|████      | 4/10 [05:03<07:30, 75.05s/it]"
     ]
    },
    {
     "name": "stdout",
     "output_type": "stream",
     "text": [
      "---ROUTE QUESTION---\n",
      "---ROUTE QUESTION TO RAG---\n",
      "---RETRIEVE---\n"
     ]
    },
    {
     "name": "stderr",
     "output_type": "stream",
     "text": [
      "Batches: 100%|██████████| 1/1 [00:08<00:00,  8.25s/it]\n"
     ]
    },
    {
     "name": "stdout",
     "output_type": "stream",
     "text": [
      "---CHECK DOCUMENT RELEVANCE TO QUESTION---\n",
      "---GRADE: DOCUMENT RELEVANT---\n",
      "---GRADE: DOCUMENT RELEVANT---\n",
      "---GRADE: DOCUMENT RELEVANT---\n",
      "---GRADE: DOCUMENT RELEVANT---\n",
      "---ASSESS GRADED DOCUMENTS---\n",
      "---DECISION: GENERATE---\n",
      "---GENERATE---\n",
      "---CHECK HALUCINATIONS\n",
      "---DECISION: GENERATION IS GROUNDED IN DOCUMENTS---\n",
      "---GRADE GENERATION vs QUESTION---\n",
      "---DECISION: GENERATION ANSWERS QUESTION---\n"
     ]
    },
    {
     "name": "stderr",
     "output_type": "stream",
     "text": [
      "Evaluation:  50%|█████     | 5/10 [06:24<06:26, 77.23s/it]"
     ]
    },
    {
     "name": "stdout",
     "output_type": "stream",
     "text": [
      "---ROUTE QUESTION---\n",
      "---ROUTE QUESTION TO RAG---\n",
      "---RETRIEVE---\n"
     ]
    },
    {
     "name": "stderr",
     "output_type": "stream",
     "text": [
      "Batches: 100%|██████████| 1/1 [00:03<00:00,  3.53s/it]\n"
     ]
    },
    {
     "name": "stdout",
     "output_type": "stream",
     "text": [
      "---CHECK DOCUMENT RELEVANCE TO QUESTION---\n",
      "---GRADE: DOCUMENT RELEVANT---\n",
      "---GRADE: DOCUMENT RELEVANT---\n",
      "---GRADE: DOCUMENT RELEVANT---\n",
      "---GRADE: DOCUMENT RELEVANT---\n",
      "---ASSESS GRADED DOCUMENTS---\n",
      "---DECISION: GENERATE---\n",
      "---GENERATE---\n",
      "---CHECK HALUCINATIONS\n",
      "---DECISION: GENERATION IS GROUNDED IN DOCUMENTS---\n",
      "---GRADE GENERATION vs QUESTION---\n",
      "---DECISION: GENERATION ANSWERS QUESTION---\n"
     ]
    },
    {
     "name": "stderr",
     "output_type": "stream",
     "text": [
      "Evaluation:  60%|██████    | 6/10 [07:38<05:05, 76.27s/it]"
     ]
    },
    {
     "name": "stdout",
     "output_type": "stream",
     "text": [
      "---ROUTE QUESTION---\n",
      "---ROUTE QUESTION TO RAG---\n",
      "---RETRIEVE---\n"
     ]
    },
    {
     "name": "stderr",
     "output_type": "stream",
     "text": [
      "Batches: 100%|██████████| 1/1 [00:07<00:00,  7.78s/it]\n"
     ]
    },
    {
     "name": "stdout",
     "output_type": "stream",
     "text": [
      "---CHECK DOCUMENT RELEVANCE TO QUESTION---\n",
      "---GRADE: DOCUMENT RELEVANT---\n",
      "---GRADE: DOCUMENT RELEVANT---\n",
      "---GRADE: DOCUMENT RELEVANT---\n",
      "---ASSESS GRADED DOCUMENTS---\n",
      "---DECISION: GENERATE---\n",
      "---GENERATE---\n",
      "---CHECK HALUCINATIONS\n",
      "---DECISION: GENERATION IS GROUNDED IN DOCUMENTS---\n",
      "---GRADE GENERATION vs QUESTION---\n",
      "---DECISION: GENERATION ANSWERS QUESTION---\n"
     ]
    },
    {
     "name": "stderr",
     "output_type": "stream",
     "text": [
      "Evaluation:  70%|███████   | 7/10 [08:36<03:31, 70.38s/it]"
     ]
    },
    {
     "name": "stdout",
     "output_type": "stream",
     "text": [
      "---ROUTE QUESTION---\n",
      "---ROUTE QUESTION TO RAG---\n",
      "---RETRIEVE---\n"
     ]
    },
    {
     "name": "stderr",
     "output_type": "stream",
     "text": [
      "Batches: 100%|██████████| 1/1 [00:02<00:00,  2.80s/it]\n"
     ]
    },
    {
     "name": "stdout",
     "output_type": "stream",
     "text": [
      "---CHECK DOCUMENT RELEVANCE TO QUESTION---\n",
      "---GRADE: DOCUMENT RELEVANT---\n",
      "---GRADE: DOCUMENT RELEVANT---\n",
      "---GRADE: DOCUMENT RELEVANT---\n",
      "---ASSESS GRADED DOCUMENTS---\n",
      "---DECISION: GENERATE---\n",
      "---GENERATE---\n",
      "---CHECK HALUCINATIONS\n",
      "---DECISION: GENERATION IS GROUNDED IN DOCUMENTS---\n",
      "---GRADE GENERATION vs QUESTION---\n",
      "---DECISION: GENERATION ANSWERS QUESTION---\n"
     ]
    },
    {
     "name": "stderr",
     "output_type": "stream",
     "text": [
      "Evaluation:  80%|████████  | 8/10 [09:48<02:21, 70.68s/it]"
     ]
    },
    {
     "name": "stdout",
     "output_type": "stream",
     "text": [
      "---ROUTE QUESTION---\n",
      "---ROUTE QUESTION TO RAG---\n",
      "---RETRIEVE---\n"
     ]
    },
    {
     "name": "stderr",
     "output_type": "stream",
     "text": [
      "Batches: 100%|██████████| 1/1 [00:04<00:00,  4.80s/it]\n"
     ]
    },
    {
     "name": "stdout",
     "output_type": "stream",
     "text": [
      "---CHECK DOCUMENT RELEVANCE TO QUESTION---\n",
      "---GRADE: DOCUMENT RELEVANT---\n",
      "---GRADE: DOCUMENT RELEVANT---\n",
      "---ASSESS GRADED DOCUMENTS---\n",
      "---DECISION: GENERATE---\n",
      "---GENERATE---\n",
      "---CHECK HALUCINATIONS\n",
      "---DECISION: GENERATION IS GROUNDED IN DOCUMENTS---\n",
      "---GRADE GENERATION vs QUESTION---\n",
      "---DECISION: GENERATION ANSWERS QUESTION---\n"
     ]
    },
    {
     "name": "stderr",
     "output_type": "stream",
     "text": [
      "Evaluation:  90%|█████████ | 9/10 [10:41<01:05, 65.19s/it]"
     ]
    },
    {
     "name": "stdout",
     "output_type": "stream",
     "text": [
      "---ROUTE QUESTION---\n",
      "---ROUTE QUESTION TO RAG---\n",
      "---RETRIEVE---\n"
     ]
    },
    {
     "name": "stderr",
     "output_type": "stream",
     "text": [
      "Batches: 100%|██████████| 1/1 [00:06<00:00,  6.93s/it]\n"
     ]
    },
    {
     "name": "stdout",
     "output_type": "stream",
     "text": [
      "---CHECK DOCUMENT RELEVANCE TO QUESTION---\n",
      "---GRADE: DOCUMENT RELEVANT---\n",
      "---GRADE: DOCUMENT RELEVANT---\n",
      "---ASSESS GRADED DOCUMENTS---\n",
      "---DECISION: GENERATE---\n",
      "---GENERATE---\n",
      "---CHECK HALUCINATIONS\n",
      "---DECISION: GENERATION IS GROUNDED IN DOCUMENTS---\n",
      "---GRADE GENERATION vs QUESTION---\n",
      "---DECISION: GENERATION ANSWERS QUESTION---\n"
     ]
    },
    {
     "name": "stderr",
     "output_type": "stream",
     "text": [
      "Evaluation: 100%|██████████| 10/10 [11:40<00:00, 70.07s/it]\n"
     ]
    }
   ],
   "source": [
    "# Perform benchmarking\n",
    "benchmark_evaluation = evaluate_orchestration(questions=list_questions)"
   ]
  },
  {
   "cell_type": "code",
   "execution_count": 175,
   "metadata": {},
   "outputs": [
    {
     "data": {
      "text/html": [
       "<div>\n",
       "<style scoped>\n",
       "    .dataframe tbody tr th:only-of-type {\n",
       "        vertical-align: middle;\n",
       "    }\n",
       "\n",
       "    .dataframe tbody tr th {\n",
       "        vertical-align: top;\n",
       "    }\n",
       "\n",
       "    .dataframe thead th {\n",
       "        text-align: right;\n",
       "    }\n",
       "</style>\n",
       "<table border=\"1\" class=\"dataframe\">\n",
       "  <thead>\n",
       "    <tr style=\"text-align: right;\">\n",
       "      <th></th>\n",
       "      <th>question</th>\n",
       "      <th>answer</th>\n",
       "      <th>token_input</th>\n",
       "      <th>token_output</th>\n",
       "      <th>latency</th>\n",
       "      <th>max_retries</th>\n",
       "      <th>is_web_search</th>\n",
       "      <th>hallucation_score</th>\n",
       "    </tr>\n",
       "  </thead>\n",
       "  <tbody>\n",
       "    <tr>\n",
       "      <th>0</th>\n",
       "      <td>How does the underrepresentation of ethnic min...</td>\n",
       "      <td>The underrepresentation of ethnic minorities i...</td>\n",
       "      <td>1988</td>\n",
       "      <td>102</td>\n",
       "      <td>24.634001</td>\n",
       "      <td>3</td>\n",
       "      <td>No</td>\n",
       "      <td>0.0</td>\n",
       "    </tr>\n",
       "    <tr>\n",
       "      <th>1</th>\n",
       "      <td>Given that only 42% of respondents believe the...</td>\n",
       "      <td>To bridge the knowledge gap, organizations cou...</td>\n",
       "      <td>1915</td>\n",
       "      <td>103</td>\n",
       "      <td>31.204552</td>\n",
       "      <td>3</td>\n",
       "      <td>No</td>\n",
       "      <td>0.0</td>\n",
       "    </tr>\n",
       "    <tr>\n",
       "      <th>2</th>\n",
       "      <td>In what ways might the shift towards remote wo...</td>\n",
       "      <td>The shift towards remote working may dispropor...</td>\n",
       "      <td>2024</td>\n",
       "      <td>103</td>\n",
       "      <td>28.742988</td>\n",
       "      <td>3</td>\n",
       "      <td>No</td>\n",
       "      <td>0.0</td>\n",
       "    </tr>\n",
       "    <tr>\n",
       "      <th>3</th>\n",
       "      <td>Considering that 61% of IT professionals feel ...</td>\n",
       "      <td>According to the report, a lack of information...</td>\n",
       "      <td>1867</td>\n",
       "      <td>104</td>\n",
       "      <td>14.925422</td>\n",
       "      <td>3</td>\n",
       "      <td>No</td>\n",
       "      <td>0.0</td>\n",
       "    </tr>\n",
       "    <tr>\n",
       "      <th>4</th>\n",
       "      <td>How can the IT industry address the dual chall...</td>\n",
       "      <td>To address the dual challenge, the IT industry...</td>\n",
       "      <td>2073</td>\n",
       "      <td>112</td>\n",
       "      <td>27.635605</td>\n",
       "      <td>3</td>\n",
       "      <td>No</td>\n",
       "      <td>0.0</td>\n",
       "    </tr>\n",
       "    <tr>\n",
       "      <th>5</th>\n",
       "      <td>With nearly half (49%) of cybersecurity respon...</td>\n",
       "      <td>IT leaders should prioritize setting consisten...</td>\n",
       "      <td>1956</td>\n",
       "      <td>96</td>\n",
       "      <td>19.405991</td>\n",
       "      <td>3</td>\n",
       "      <td>No</td>\n",
       "      <td>0.0</td>\n",
       "    </tr>\n",
       "    <tr>\n",
       "      <th>6</th>\n",
       "      <td>What are the ethical considerations regarding ...</td>\n",
       "      <td>The ethical considerations regarding AI and da...</td>\n",
       "      <td>1474</td>\n",
       "      <td>110</td>\n",
       "      <td>15.151057</td>\n",
       "      <td>3</td>\n",
       "      <td>No</td>\n",
       "      <td>0.0</td>\n",
       "    </tr>\n",
       "    <tr>\n",
       "      <th>7</th>\n",
       "      <td>What implications does the significant gender ...</td>\n",
       "      <td>The significant gender disparity in IT degree ...</td>\n",
       "      <td>1592</td>\n",
       "      <td>101</td>\n",
       "      <td>28.377139</td>\n",
       "      <td>3</td>\n",
       "      <td>No</td>\n",
       "      <td>0.0</td>\n",
       "    </tr>\n",
       "    <tr>\n",
       "      <th>8</th>\n",
       "      <td>Analyze the potential consequences of the UK l...</td>\n",
       "      <td>The potential consequences of the UK losing co...</td>\n",
       "      <td>1063</td>\n",
       "      <td>121</td>\n",
       "      <td>18.163328</td>\n",
       "      <td>3</td>\n",
       "      <td>No</td>\n",
       "      <td>0.0</td>\n",
       "    </tr>\n",
       "    <tr>\n",
       "      <th>9</th>\n",
       "      <td>Evaluate the effectiveness of current measures...</td>\n",
       "      <td>The effectiveness of current measures to comba...</td>\n",
       "      <td>1019</td>\n",
       "      <td>95</td>\n",
       "      <td>23.626334</td>\n",
       "      <td>3</td>\n",
       "      <td>No</td>\n",
       "      <td>0.0</td>\n",
       "    </tr>\n",
       "  </tbody>\n",
       "</table>\n",
       "</div>"
      ],
      "text/plain": [
       "                                            question  ... hallucation_score\n",
       "0  How does the underrepresentation of ethnic min...  ...               0.0\n",
       "1  Given that only 42% of respondents believe the...  ...               0.0\n",
       "2  In what ways might the shift towards remote wo...  ...               0.0\n",
       "3  Considering that 61% of IT professionals feel ...  ...               0.0\n",
       "4  How can the IT industry address the dual chall...  ...               0.0\n",
       "5  With nearly half (49%) of cybersecurity respon...  ...               0.0\n",
       "6  What are the ethical considerations regarding ...  ...               0.0\n",
       "7  What implications does the significant gender ...  ...               0.0\n",
       "8  Analyze the potential consequences of the UK l...  ...               0.0\n",
       "9  Evaluate the effectiveness of current measures...  ...               0.0\n",
       "\n",
       "[10 rows x 8 columns]"
      ]
     },
     "execution_count": 175,
     "metadata": {},
     "output_type": "execute_result"
    }
   ],
   "source": [
    "# Wrap into dataframe\n",
    "df_evaluation = pd.DataFrame.from_dict(benchmark_evaluation)\n",
    "df_evaluation"
   ]
  },
  {
   "cell_type": "markdown",
   "metadata": {},
   "source": [
    "![](scoring-evidence.png)"
   ]
  },
  {
   "cell_type": "code",
   "execution_count": 177,
   "metadata": {},
   "outputs": [
    {
     "data": {
      "text/html": [
       "<div>\n",
       "<style scoped>\n",
       "    .dataframe tbody tr th:only-of-type {\n",
       "        vertical-align: middle;\n",
       "    }\n",
       "\n",
       "    .dataframe tbody tr th {\n",
       "        vertical-align: top;\n",
       "    }\n",
       "\n",
       "    .dataframe thead th {\n",
       "        text-align: right;\n",
       "    }\n",
       "</style>\n",
       "<table border=\"1\" class=\"dataframe\">\n",
       "  <thead>\n",
       "    <tr style=\"text-align: right;\">\n",
       "      <th></th>\n",
       "      <th>question</th>\n",
       "      <th>answer</th>\n",
       "      <th>token_input</th>\n",
       "      <th>token_output</th>\n",
       "      <th>latency</th>\n",
       "      <th>max_retries</th>\n",
       "      <th>is_web_search</th>\n",
       "      <th>hallucation_score</th>\n",
       "      <th>llm_eval</th>\n",
       "    </tr>\n",
       "  </thead>\n",
       "  <tbody>\n",
       "    <tr>\n",
       "      <th>0</th>\n",
       "      <td>How does the underrepresentation of ethnic min...</td>\n",
       "      <td>The underrepresentation of ethnic minorities i...</td>\n",
       "      <td>1988</td>\n",
       "      <td>102</td>\n",
       "      <td>24.634001</td>\n",
       "      <td>3</td>\n",
       "      <td>No</td>\n",
       "      <td>0.0</td>\n",
       "      <td>90</td>\n",
       "    </tr>\n",
       "    <tr>\n",
       "      <th>1</th>\n",
       "      <td>Given that only 42% of respondents believe the...</td>\n",
       "      <td>To bridge the knowledge gap, organizations cou...</td>\n",
       "      <td>1915</td>\n",
       "      <td>103</td>\n",
       "      <td>31.204552</td>\n",
       "      <td>3</td>\n",
       "      <td>No</td>\n",
       "      <td>0.0</td>\n",
       "      <td>85</td>\n",
       "    </tr>\n",
       "    <tr>\n",
       "      <th>2</th>\n",
       "      <td>In what ways might the shift towards remote wo...</td>\n",
       "      <td>The shift towards remote working may dispropor...</td>\n",
       "      <td>2024</td>\n",
       "      <td>103</td>\n",
       "      <td>28.742988</td>\n",
       "      <td>3</td>\n",
       "      <td>No</td>\n",
       "      <td>0.0</td>\n",
       "      <td>75</td>\n",
       "    </tr>\n",
       "    <tr>\n",
       "      <th>3</th>\n",
       "      <td>Considering that 61% of IT professionals feel ...</td>\n",
       "      <td>According to the report, a lack of information...</td>\n",
       "      <td>1867</td>\n",
       "      <td>104</td>\n",
       "      <td>14.925422</td>\n",
       "      <td>3</td>\n",
       "      <td>No</td>\n",
       "      <td>0.0</td>\n",
       "      <td>92</td>\n",
       "    </tr>\n",
       "    <tr>\n",
       "      <th>4</th>\n",
       "      <td>How can the IT industry address the dual chall...</td>\n",
       "      <td>To address the dual challenge, the IT industry...</td>\n",
       "      <td>2073</td>\n",
       "      <td>112</td>\n",
       "      <td>27.635605</td>\n",
       "      <td>3</td>\n",
       "      <td>No</td>\n",
       "      <td>0.0</td>\n",
       "      <td>88</td>\n",
       "    </tr>\n",
       "    <tr>\n",
       "      <th>5</th>\n",
       "      <td>With nearly half (49%) of cybersecurity respon...</td>\n",
       "      <td>IT leaders should prioritize setting consisten...</td>\n",
       "      <td>1956</td>\n",
       "      <td>96</td>\n",
       "      <td>19.405991</td>\n",
       "      <td>3</td>\n",
       "      <td>No</td>\n",
       "      <td>0.0</td>\n",
       "      <td>87</td>\n",
       "    </tr>\n",
       "    <tr>\n",
       "      <th>6</th>\n",
       "      <td>What are the ethical considerations regarding ...</td>\n",
       "      <td>The ethical considerations regarding AI and da...</td>\n",
       "      <td>1474</td>\n",
       "      <td>110</td>\n",
       "      <td>15.151057</td>\n",
       "      <td>3</td>\n",
       "      <td>No</td>\n",
       "      <td>0.0</td>\n",
       "      <td>90</td>\n",
       "    </tr>\n",
       "    <tr>\n",
       "      <th>7</th>\n",
       "      <td>What implications does the significant gender ...</td>\n",
       "      <td>The significant gender disparity in IT degree ...</td>\n",
       "      <td>1592</td>\n",
       "      <td>101</td>\n",
       "      <td>28.377139</td>\n",
       "      <td>3</td>\n",
       "      <td>No</td>\n",
       "      <td>0.0</td>\n",
       "      <td>85</td>\n",
       "    </tr>\n",
       "    <tr>\n",
       "      <th>8</th>\n",
       "      <td>Analyze the potential consequences of the UK l...</td>\n",
       "      <td>The potential consequences of the UK losing co...</td>\n",
       "      <td>1063</td>\n",
       "      <td>121</td>\n",
       "      <td>18.163328</td>\n",
       "      <td>3</td>\n",
       "      <td>No</td>\n",
       "      <td>0.0</td>\n",
       "      <td>88</td>\n",
       "    </tr>\n",
       "    <tr>\n",
       "      <th>9</th>\n",
       "      <td>Evaluate the effectiveness of current measures...</td>\n",
       "      <td>The effectiveness of current measures to comba...</td>\n",
       "      <td>1019</td>\n",
       "      <td>95</td>\n",
       "      <td>23.626334</td>\n",
       "      <td>3</td>\n",
       "      <td>No</td>\n",
       "      <td>0.0</td>\n",
       "      <td>90</td>\n",
       "    </tr>\n",
       "  </tbody>\n",
       "</table>\n",
       "</div>"
      ],
      "text/plain": [
       "                                            question  ... llm_eval\n",
       "0  How does the underrepresentation of ethnic min...  ...       90\n",
       "1  Given that only 42% of respondents believe the...  ...       85\n",
       "2  In what ways might the shift towards remote wo...  ...       75\n",
       "3  Considering that 61% of IT professionals feel ...  ...       92\n",
       "4  How can the IT industry address the dual chall...  ...       88\n",
       "5  With nearly half (49%) of cybersecurity respon...  ...       87\n",
       "6  What are the ethical considerations regarding ...  ...       90\n",
       "7  What implications does the significant gender ...  ...       85\n",
       "8  Analyze the potential consequences of the UK l...  ...       88\n",
       "9  Evaluate the effectiveness of current measures...  ...       90\n",
       "\n",
       "[10 rows x 9 columns]"
      ]
     },
     "execution_count": 177,
     "metadata": {},
     "output_type": "execute_result"
    }
   ],
   "source": [
    "# Add manual scoring from qwen.\n",
    "qwen_scoring = [90, 85, 75, 92, 88, 87, 90, 85, 88, 90]\n",
    "df_evaluation[\"llm_eval\"] = qwen_scoring\n",
    "df_evaluation"
   ]
  },
  {
   "cell_type": "code",
   "execution_count": 178,
   "metadata": {},
   "outputs": [],
   "source": [
    "# Export into excel --- to perform evaluation using OpenAI Website.\n",
    "df_evaluation.to_excel(\"evaluation.xlsx\", index=False)"
   ]
  }
 ],
 "metadata": {
  "kernelspec": {
   "display_name": ".venv",
   "language": "python",
   "name": "python3"
  },
  "language_info": {
   "codemirror_mode": {
    "name": "ipython",
    "version": 3
   },
   "file_extension": ".py",
   "mimetype": "text/x-python",
   "name": "python",
   "nbconvert_exporter": "python",
   "pygments_lexer": "ipython3",
   "version": "3.11.11"
  }
 },
 "nbformat": 4,
 "nbformat_minor": 2
}
